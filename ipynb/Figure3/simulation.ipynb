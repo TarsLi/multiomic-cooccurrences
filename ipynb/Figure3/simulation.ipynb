{
 "cells": [
  {
   "cell_type": "code",
   "execution_count": 1,
   "metadata": {},
   "outputs": [
    {
     "name": "stderr",
     "output_type": "stream",
     "text": [
      "/Users/mortonjt/miniconda3/envs/bayesian-regression/lib/python3.5/site-packages/h5py/__init__.py:36: FutureWarning: Conversion of the second argument of issubdtype from `float` to `np.floating` is deprecated. In future, it will be treated as `np.float64 == np.dtype(float).type`.\n",
      "  from ._conv import register_converters as _register_converters\n"
     ]
    }
   ],
   "source": [
    "import numpy as np\n",
    "import pandas as pd\n",
    "import matplotlib.pyplot as plt\n",
    "from sklearn.utils import check_random_state\n",
    "from skbio.stats.composition import clr_inv as softmax\n",
    "from gneiss.sort import niche_sort"
   ]
  },
  {
   "cell_type": "code",
   "execution_count": 2,
   "metadata": {
    "collapsed": true
   },
   "outputs": [],
   "source": [
    "num_microbes = 20\n",
    "num_metabolites = 100\n",
    "num_samples = 100\n",
    "num_latent_microbes = 5\n",
    "num_latent_metabolites = 10\n",
    "k = 3\n",
    "seed = 0\n",
    "low, high = -1, 1\n",
    "microbe_total = 10\n",
    "metabolite_total = 100\n",
    "\n",
    "uB = 0\n",
    "sigmaB = 2\n",
    "sigmaQ = 0.1\n",
    "uU1 = 0\n",
    "sigmaU1 = 1\n",
    "uU2 = 0\n",
    "sigmaU2 = 1\n",
    "uV1 = 0\n",
    "sigmaV1 = 1\n",
    "uV2 = 0\n",
    "sigmaV2 = 1"
   ]
  },
  {
   "cell_type": "code",
   "execution_count": 3,
   "metadata": {
    "collapsed": true
   },
   "outputs": [],
   "source": [
    "state = check_random_state(seed)\n",
    "    \n",
    "beta = state.normal(uB, sigmaB, size=(2, k))\n",
    "\n",
    "X = np.vstack((np.ones(num_samples), \n",
    "               np.linspace(low, high, num_samples))).T\n",
    "\n",
    "Q = np.tanh(state.normal(X @ beta, sigmaQ))\n",
    "\n",
    "U1 = state.normal(uU1, sigmaU1, size=(num_latent_microbes, num_microbes))\n",
    "U2 = state.normal(uU2, sigmaU2, size=(k, num_latent_microbes))\n",
    "V1 = state.normal(uV1, sigmaV1, size=(num_latent_metabolites, num_metabolites))\n",
    "V2 = state.normal(uV2, sigmaV2, size=(k, num_latent_metabolites))"
   ]
  },
  {
   "cell_type": "code",
   "execution_count": 4,
   "metadata": {
    "collapsed": true
   },
   "outputs": [],
   "source": [
    "def multinomial(n, p):\n",
    "    return np.vstack([np.random.multinomial(n, p[i, :]) \n",
    "                      for i in range(p.shape[0])]).T"
   ]
  },
  {
   "cell_type": "code",
   "execution_count": 5,
   "metadata": {
    "collapsed": true
   },
   "outputs": [],
   "source": [
    "microbe_counts = multinomial(microbe_total, softmax(Q @ U2 @ U1))\n",
    "metabolite_counts = multinomial(metabolite_total, softmax(Q @ V2 @ V1))\n",
    "\n",
    "microbe_counts = pd.DataFrame(microbe_counts)\n",
    "metabolite_counts = pd.DataFrame(microbe_counts)\n",
    "\n",
    "G = pd.Series(X[:, 1])\n",
    "microbe_counts = niche_sort(microbe_counts, G)\n",
    "metabolite_counts = niche_sort(metabolite_counts, G)"
   ]
  },
  {
   "cell_type": "code",
   "execution_count": 6,
   "metadata": {},
   "outputs": [
    {
     "data": {
      "image/png": "[encoded data removed]",
      "text/plain": [
       "<matplotlib.figure.Figure at 0x11b9ec748>"
      ]
     },
     "metadata": {},
     "output_type": "display_data"
    }
   ],
   "source": [
    "fig, ax = plt.subplots(1, 2, figsize=(10, 5))\n",
    "im1 = ax[0].imshow(microbe_counts.T, \n",
    "                   cmap=plt.cm.Reds, aspect='auto', interpolation='nearest')\n",
    "im2 = ax[1].imshow(metabolite_counts.T, \n",
    "                   cmap=plt.cm.Reds, aspect='auto', interpolation='nearest')\n",
    "plt.tight_layout()"
   ]
  },
  {
   "cell_type": "code",
   "execution_count": null,
   "metadata": {
    "collapsed": true
   },
   "outputs": [],
   "source": []
  },
  {
   "cell_type": "code",
   "execution_count": null,
   "metadata": {
    "collapsed": true
   },
   "outputs": [],
   "source": []
  }
 ],
 "metadata": {
  "kernelspec": {
   "display_name": "Python 3",
   "language": "python",
   "name": "python3"
  },
  "language_info": {
   "codemirror_mode": {
    "name": "ipython",
    "version": 3
   },
   "file_extension": ".py",
   "mimetype": "text/x-python",
   "name": "python",
   "nbconvert_exporter": "python",
   "pygments_lexer": "ipython3",
   "version": "3.6.1"
  }
 },
 "nbformat": 4,
 "nbformat_minor": 2
}
