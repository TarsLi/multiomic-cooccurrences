{
 "cells": [
  {
   "cell_type": "code",
   "execution_count": 1,
   "metadata": {},
   "outputs": [],
   "source": [
    "import os\n",
    "import numpy as np\n",
    "import pandas as pd\n",
    "import matplotlib.pyplot as plt\n",
    "import seaborn as sns\n",
    "from benchmark_mae.evaluate import edge_roc_curve\n",
    "from rhapsody.util import rank_hits\n",
    "from itertools import product\n",
    "from skbio.stats.composition import clr, centralize\n",
    "from skbio.stats.composition import clr_inv as softmax\n",
    "import matplotlib.colors as colors\n",
    "from matplotlib.ticker import MaxNLocator\n",
    "\n",
    "from benchmark_mae.generators import ground_truth_edges\n",
    "from benchmark_mae.evaluate import _edge_roc_curve\n",
    "from biom import load_table\n",
    "from scipy.stats import spearmanr, pearsonr\n",
    "import glob\n",
    "import yaml\n",
    "%matplotlib inline"
   ]
  },
  {
   "cell_type": "code",
   "execution_count": 2,
   "metadata": {},
   "outputs": [],
   "source": [
    "sensitivity = lambda x: x['TP'] / (x['TP'] + x['FN'])\n",
    "specificity = lambda x: x['TN'] / (x['TN'] + x['FP'])\n",
    "iteration = '0_a'"
   ]
  },
  {
   "cell_type": "code",
   "execution_count": 3,
   "metadata": {},
   "outputs": [],
   "source": [
    "results_dir = '../../results/depth_benchmark/'\n",
    "with open('%s/depth_params11.yaml' % results_dir, 'r') as f:\n",
    "    effect_params = yaml.load(f)\n",
    "\n",
    "sample_ids = effect_params['samples']\n",
    "modes = effect_params['modes']\n",
    "tools = ['deep_mae', 'pearson', 'spearman']"
   ]
  },
  {
   "cell_type": "code",
   "execution_count": 4,
   "metadata": {},
   "outputs": [],
   "source": [
    "ids = list(product(tools, modes, sample_ids))\n",
    "fnames = list(map(lambda x: '.'.join(x) + '.results', ids))"
   ]
  },
  {
   "cell_type": "code",
   "execution_count": 5,
   "metadata": {},
   "outputs": [],
   "source": [
    "df = pd.DataFrame(ids, index=fnames, columns=['tools', 'modes', 'samples'])"
   ]
  },
  {
   "cell_type": "code",
   "execution_count": 6,
   "metadata": {},
   "outputs": [],
   "source": [
    "kmax=40"
   ]
  },
  {
   "cell_type": "markdown",
   "metadata": {},
   "source": [
    "Deep learning ranks"
   ]
  },
  {
   "cell_type": "code",
   "execution_count": 7,
   "metadata": {},
   "outputs": [],
   "source": [
    "sample = sample_ids[0] \n",
    "tool = tools[0]\n",
    "r_fname = 'deep_mae.%s.results' % iteration\n",
    "edge_file = '%s/edges.%s.txt' % (results_dir, sample)\n",
    "rank_file = os.path.join(results_dir, r_fname)\n",
    "rel_ranks = pd.read_table(rank_file, index_col=0).T"
   ]
  },
  {
   "cell_type": "code",
   "execution_count": 8,
   "metadata": {},
   "outputs": [],
   "source": [
    "rank_file = os.path.join(results_dir, r_fname)\n",
    "rel_ranks = pd.read_table(rank_file, index_col=0).T"
   ]
  },
  {
   "cell_type": "code",
   "execution_count": 9,
   "metadata": {},
   "outputs": [],
   "source": [
    "metabolites = load_table(\n",
    "    os.path.join(results_dir, 'table.rel.metabolites.1_a.biom')\n",
    ").to_dataframe().T\n",
    "\n",
    "microbes = load_table(\n",
    "    os.path.join(results_dir, 'table.rel.microbes.1_a.biom')\n",
    ").to_dataframe().T\n",
    "\n",
    "edges = ground_truth_edges(microbes, metabolites)"
   ]
  },
  {
   "cell_type": "code",
   "execution_count": 10,
   "metadata": {},
   "outputs": [],
   "source": [
    "mae_pos, mae_neg = _edge_roc_curve(rel_ranks, edges, axis=1, k_max=kmax)"
   ]
  },
  {
   "cell_type": "code",
   "execution_count": 11,
   "metadata": {},
   "outputs": [],
   "source": [
    "mae_pos['TPR'] = mae_pos.apply(sensitivity, axis=1)\n",
    "mae_pos['TNR'] = mae_pos.apply(specificity, axis=1)"
   ]
  },
  {
   "cell_type": "markdown",
   "metadata": {},
   "source": [
    "Spearman"
   ]
  },
  {
   "cell_type": "code",
   "execution_count": 12,
   "metadata": {},
   "outputs": [],
   "source": [
    "sample = sample_ids[0] \n",
    "tool = tools[0]\n",
    "r_fname = 'spearman.%s.results' % iteration\n",
    "edge_file = '%s/edges.%s.txt' % (results_dir, sample)\n",
    "rank_file = os.path.join(results_dir, r_fname)\n",
    "rel_ranks = pd.read_table(rank_file, index_col=0).T"
   ]
  },
  {
   "cell_type": "code",
   "execution_count": 13,
   "metadata": {},
   "outputs": [],
   "source": [
    "rank_file = os.path.join(results_dir, r_fname)\n",
    "rel_ranks = pd.read_table(rank_file, index_col=0).T"
   ]
  },
  {
   "cell_type": "code",
   "execution_count": 14,
   "metadata": {},
   "outputs": [],
   "source": [
    "spear_pos, spear_neg = _edge_roc_curve(rel_ranks, edges, k_max=kmax)"
   ]
  },
  {
   "cell_type": "code",
   "execution_count": 15,
   "metadata": {},
   "outputs": [],
   "source": [
    "spear_pos['TPR'] = spear_pos.apply(sensitivity, axis=1)\n",
    "spear_pos['TNR'] = spear_pos.apply(specificity, axis=1)"
   ]
  },
  {
   "cell_type": "markdown",
   "metadata": {},
   "source": [
    "Pearson"
   ]
  },
  {
   "cell_type": "code",
   "execution_count": 16,
   "metadata": {},
   "outputs": [],
   "source": [
    "sample = sample_ids[0] \n",
    "tool = tools[0]\n",
    "r_fname = 'pearson.%s.results' % iteration\n",
    "edge_file = '%s/edges.%s.txt' % (results_dir, sample)\n",
    "\n",
    "rank_file = os.path.join(results_dir, r_fname)\n",
    "rel_ranks = pd.read_table(rank_file, index_col=0).T"
   ]
  },
  {
   "cell_type": "code",
   "execution_count": 17,
   "metadata": {},
   "outputs": [],
   "source": [
    "rank_file = os.path.join(results_dir, r_fname)\n",
    "rel_ranks = pd.read_table(rank_file, index_col=0).T"
   ]
  },
  {
   "cell_type": "code",
   "execution_count": 18,
   "metadata": {},
   "outputs": [],
   "source": [
    "pear_pos, pear_neg = _edge_roc_curve(rel_ranks, edges, k_max=kmax)"
   ]
  },
  {
   "cell_type": "code",
   "execution_count": 19,
   "metadata": {},
   "outputs": [],
   "source": [
    "pear_pos['TPR'] = pear_pos.apply(sensitivity, axis=1)\n",
    "pear_pos['TNR'] = pear_pos.apply(specificity, axis=1)"
   ]
  },
  {
   "cell_type": "code",
   "execution_count": 20,
   "metadata": {},
   "outputs": [
    {
     "data": {
      "image/png": "[encoded data removed]",
      "text/plain": [
       "<Figure size 360x360 with 1 Axes>"
      ]
     },
     "metadata": {
      "needs_background": "light"
     },
     "output_type": "display_data"
    }
   ],
   "source": [
    "fontsize = 22\n",
    "labelsize = 18\n",
    "\n",
    "fig, ax = plt.subplots(figsize=(5, 5))\n",
    "ax.scatter(1-mae_pos['TPR'], mae_pos['TNR'], label='mmvec')\n",
    "ax.scatter(1-spear_pos['TPR'], spear_pos['TNR'], label='spearman')\n",
    "ax.scatter(1-pear_pos['TPR'], pear_pos['TNR'], label='pearson')\n",
    "ax.xaxis.set_tick_params(labelsize=labelsize)\n",
    "ax.yaxis.set_tick_params(labelsize=labelsize)\n",
    "ax.legend(prop={'size': 18})\n",
    "ax.set_xlabel('1 - Specificity', fontsize=fontsize) \n",
    "ax.set_ylabel('Sensitivity', fontsize=fontsize)\n",
    "ax.xaxis.set_major_locator(MaxNLocator(4))\n",
    "ax.yaxis.set_major_locator(MaxNLocator(4))\n",
    "\n",
    "plt.tight_layout()\n",
    "fig.savefig('../../figures/figure3/depth_roc.png')\n",
    "fig.savefig('../../figures/figure3/depth_roc.pdf')"
   ]
  },
  {
   "cell_type": "raw",
   "metadata": {},
   "source": []
  }
 ],
 "metadata": {
  "kernelspec": {
   "display_name": "Python 3",
   "language": "python",
   "name": "python3"
  },
  "language_info": {
   "codemirror_mode": {
    "name": "ipython",
    "version": 3
   },
   "file_extension": ".py",
   "mimetype": "text/x-python",
   "name": "python",
   "nbconvert_exporter": "python",
   "pygments_lexer": "ipython3",
   "version": "3.6.5"
  }
 },
 "nbformat": 4,
 "nbformat_minor": 2
}
