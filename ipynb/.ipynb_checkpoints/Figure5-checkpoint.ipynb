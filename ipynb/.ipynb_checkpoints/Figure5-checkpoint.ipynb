{
 "cells": [
  {
   "cell_type": "code",
   "execution_count": 1,
   "metadata": {},
   "outputs": [
    {
     "name": "stderr",
     "output_type": "stream",
     "text": [
      "/Users/jmorton/miniconda3/envs/mmvec/lib/python3.7/importlib/_bootstrap.py:219: RuntimeWarning: compiletime version 3.6 of module 'tensorflow.python.framework.fast_tensor_util' does not match runtime version 3.7\n",
      "  return f(*args, **kwds)\n"
     ]
    }
   ],
   "source": [
    "import os\n",
    "import numpy as np\n",
    "import pandas as pd\n",
    "import tensorflow as tf\n",
    "from biom import load_table\n",
    "from skbio.stats.composition import clr, clr_inv, centralize, closure\n",
    "from skbio.stats.ordination import OrdinationResults\n",
    "from scipy.spatial.distance import euclidean\n",
    "\n",
    "import matplotlib.pyplot as plt\n",
    "from matplotlib.ticker import MaxNLocator\n",
    "%matplotlib inline"
   ]
  },
  {
   "cell_type": "code",
   "execution_count": 2,
   "metadata": {},
   "outputs": [],
   "source": [
    "data_dir = '../data/HFD'\n",
    "\n",
    "microbes = load_table(os.path.join(data_dir, 'microbes.biom')).to_dataframe().T\n",
    "metabolites = load_table(os.path.join(data_dir, 'metabolites.biom')).to_dataframe().T\n",
    "\n",
    "# align the samples\n",
    "ids = set(microbes.index) & set(metabolites.index)\n",
    "microbes = microbes.loc[ids]\n",
    "metabolites = metabolites.loc[ids]\n",
    "\n",
    "# to keep consistent with the mmvec analysis, microbes with less than 10 reads total are dropped\n",
    "microbes = microbes.loc[:, (microbes>0).sum(axis=0) > 3]"
   ]
  },
  {
   "cell_type": "code",
   "execution_count": 3,
   "metadata": {},
   "outputs": [
    {
     "data": {
      "text/plain": [
       "((434, 913), (434, 11978))"
      ]
     },
     "execution_count": 3,
     "metadata": {},
     "output_type": "execute_result"
    }
   ],
   "source": [
    "microbes.shape, metabolites.shape"
   ]
  },
  {
   "cell_type": "markdown",
   "metadata": {},
   "source": [
    "First, let's load the HFD models that were generated from mmvec.  You may have to modify the checkpoint file to point to files in your own filesystem."
   ]
  },
  {
   "cell_type": "code",
   "execution_count": 4,
   "metadata": {},
   "outputs": [
    {
     "name": "stdout",
     "output_type": "stream",
     "text": [
      "../results/hfd_output/latent_dim_3_input_prior_0.10_output_prior_0.10_beta1_0.85_beta2_0.90\n",
      "../results/hfd_output/latent_dim_3_input_prior_0.10_output_prior_0.10_beta1_0.85_beta2_0.90/model.ckpt-3729909.meta\n",
      "WARNING:tensorflow:From /Users/jmorton/miniconda3/envs/mmvec/lib/python3.7/site-packages/tensorflow/python/training/saver.py:1266: checkpoint_exists (from tensorflow.python.training.checkpoint_management) is deprecated and will be removed in a future version.\n",
      "Instructions for updating:\n",
      "Use standard file APIs to check for files with this prefix.\n",
      "INFO:tensorflow:Restoring parameters from /Users/jmorton/Documents/dev/multiomic-cooccurences/results/hfd_output/latent_dim_3_input_prior_0.10_output_prior_0.10_beta1_0.85_beta2_0.90/model.ckpt-3729909\n"
     ]
    }
   ],
   "source": [
    "summary_dir = ('../results/hfd_output/latent_dim_3_input_prior_0.10_output_prior_0.10_beta1_0.85_beta2_0.90')\n",
    "\n",
    "fname = os.path.join(summary_dir, 'model.ckpt-3729909.meta')\n",
    "with tf.Session() as sess:\n",
    "\n",
    "    new_saver = tf.train.import_meta_graph(fname)\n",
    "\n",
    "    print(summary_dir)\n",
    "    print(fname)\n",
    "    new_saver.restore(\n",
    "        sess, tf.train.latest_checkpoint(summary_dir)\n",
    "    )\n",
    "                      \n",
    "    graph = tf.get_default_graph()\n",
    "    qU = graph.get_tensor_by_name(\"qU:0\").eval()\n",
    "    qV = graph.get_tensor_by_name(\"qV:0\").eval()\n",
    "    qUbias = graph.get_tensor_by_name(\"qUbias:0\").eval()\n",
    "    qVbias = graph.get_tensor_by_name(\"qVbias:0\").eval()"
   ]
  },
  {
   "cell_type": "code",
   "execution_count": 5,
   "metadata": {},
   "outputs": [],
   "source": [
    "np.savetxt('../results/hfd_output/U.txt', qU)\n",
    "np.savetxt('../results/hfd_output/Ubias.txt', qUbias)\n",
    "np.savetxt('../results/hfd_output/V.txt', qV)\n",
    "np.savetxt('../results/hfd_output/Vbias.txt', qVbias)"
   ]
  },
  {
   "cell_type": "code",
   "execution_count": 6,
   "metadata": {},
   "outputs": [],
   "source": [
    "from scipy.stats import rankdata\n",
    "\n",
    "\n",
    "U_ = np.hstack(\n",
    "    (np.ones((qU.shape[0], 1)),\n",
    "     qUbias.reshape(-1, 1), qU)\n",
    ")\n",
    "V_ = np.vstack(\n",
    "    (qVbias.reshape(1, -1),\n",
    "     np.ones((1, qV.shape[1])), qV)\n",
    ")\n",
    "\n",
    "coefs = pd.DataFrame(\n",
    "    clr(centralize(clr_inv(np.hstack(\n",
    "        (np.zeros((qU.shape[0], 1)), U_ @ V_))))),\n",
    "    index=microbes.columns,\n",
    "    columns=metabolites.columns)\n",
    "\n",
    "ranks = coefs.apply(rankdata, axis=1)\n",
    "ranks = pd.DataFrame(np.vstack(list(ranks.values)), columns=coefs.columns, index=coefs.index)"
   ]
  },
  {
   "cell_type": "markdown",
   "metadata": {},
   "source": [
    "Center the metabolite embedding around zero via conversion to clr coordinates.  Then center the microbe embedding around zero before saving both of them to files."
   ]
  },
  {
   "cell_type": "code",
   "execution_count": 7,
   "metadata": {},
   "outputs": [
    {
     "data": {
      "text/plain": [
       "'../results/hfd_output/microbes-pca.results'"
      ]
     },
     "execution_count": 7,
     "metadata": {},
     "output_type": "execute_result"
    }
   ],
   "source": [
    "from scipy.sparse.linalg import svds\n",
    "metabolite_embed = clr(clr_inv(np.hstack((np.zeros((qV.shape[0], 1)), qV)))).T\n",
    "microbe_embed = qU\n",
    "\n",
    "# orthogonalize them\n",
    "metabolite_embed = np.linalg.qr(metabolite_embed)[0]\n",
    "microbe_embed = np.linalg.qr(microbe_embed)[0]\n",
    "\n",
    "pc_ids = ['PC1', 'PC2', 'PC3']\n",
    "metabolites_res = OrdinationResults('PCA', 'Aitchison PCA for metabolites',\n",
    "    eigvals = pd.Series([1, 1, 1], index=pc_ids),\n",
    "    proportion_explained = pd.Series([.33, .33, .33], index=pc_ids),\n",
    "    samples=pd.DataFrame(metabolite_embed,\n",
    "                         columns=pc_ids, index=metabolites.columns))\n",
    "metabolites_res.write('../results/hfd_output/metabolites-pca.results')\n",
    "\n",
    "microbes_res = OrdinationResults('PCA', 'Aitchison PCA for microbes',\n",
    "    eigvals = pd.Series([1, 1, 1], index=pc_ids),\n",
    "    proportion_explained = pd.Series([.33, .33, .33], index=pc_ids),\n",
    "    samples=pd.DataFrame(microbe_embed, \n",
    "                         columns=pc_ids, index=microbes.columns))\n",
    "microbes_res.write('../results/hfd_output/microbes-pca.results')"
   ]
  },
  {
   "cell_type": "markdown",
   "metadata": {},
   "source": [
    "We have the following manually verified annotations\n",
    "\n",
    "Negative control: 466.31589984252_4.92385391891891. \n",
    "\n",
    "Clostridia: \n",
    "\n",
    "Bile acids:\n",
    "- 482.329390854131_5.87841747685184   \n",
    "- 522.377310057874_6.19744051987767\n",
    "- 572.357768136544_5.48826949404761\n",
    "- 556.363160911343_6.21811928374655 \n",
    "- 466.31589984252_4.92385391891891  (Glycocholic acid)\n",
    "- 516.299420138369_4.74766126248864 \n",
    "- 540.370156770238_7.28549563189142 (Phe conjugated chenodeoxycholic acid)\n",
    "- 556.363160911343_6.21811928374655 (Phe conjugated cholic acid)\n",
    "\n",
    "\n",
    "(Exclude below for now)\n",
    "\n",
    "ABX-related molecules:\n",
    "- 355.2631_338.9456\n",
    "- 712.7983_ 99.9473\n",
    "- 956.9507_152.2731\n",
    "- 175.1139_112.2690\n",
    "- 283.2634_560.0218\n",
    "\n",
    "NASH-related molecules\n",
    "- 524.3713_508.6635\n",
    "- 166.0863_ 71.3910\n",
    "- 120.0806_ 71.4547\n",
    "- 391.2844_311.5497\n",
    "\n",
    "Threshold for retention time\n",
    "\n",
    "+/- 10 s\n",
    "\n",
    "Threshold for m/z\n",
    "\n",
    "+/- 0.01"
   ]
  },
  {
   "cell_type": "code",
   "execution_count": 8,
   "metadata": {},
   "outputs": [],
   "source": [
    "bile_acids = [\n",
    "    [482.329390854131, 5.87841747685184],\n",
    "    [522.377310057874, 6.19744051987767],\n",
    "    [572.357768136544, 5.48826949404761],\n",
    "    [556.363160911343, 6.21811928374655],\n",
    "    [466.31589984252, 4.92385391891891],\n",
    "    [516.299420138369, 4.74766126248864],\n",
    "    [540.370156770238, 7.28549563189142],\n",
    "    [556.363160911343, 6.21811928374655]\n",
    "]\n",
    "\n",
    "abx = [    \n",
    "    [355.2631, 338.9456],\n",
    "    [712.7983, 99.9473],\n",
    "    [956.9507, 152.2731],\n",
    "    [175.1139, 112.2690],\n",
    "    [283.2634, 560.0218]\n",
    "]\n",
    "\n",
    "nash = [\n",
    "    [524.3713, 508.6635],\n",
    "    [166.0863, 71.3910],\n",
    "    [120.0806, 71.4547],\n",
    "    [391.2844, 311.5497]\n",
    "]"
   ]
  },
  {
   "cell_type": "markdown",
   "metadata": {},
   "source": [
    "But we'll need to first format the metabolomics annotations and create a look up data structure."
   ]
  },
  {
   "cell_type": "code",
   "execution_count": 9,
   "metadata": {},
   "outputs": [
    {
     "data": {
      "text/plain": [
       "NearestNeighbors(algorithm='auto', leaf_size=30, metric='minkowski',\n",
       "                 metric_params=None, n_jobs=None, n_neighbors=5, p=2,\n",
       "                 radius=1.0)"
      ]
     },
     "execution_count": 9,
     "metadata": {},
     "output_type": "execute_result"
    }
   ],
   "source": [
    "from sklearn.neighbors import NearestNeighbors, KDTree\n",
    "\n",
    "\n",
    "def split_rt_mz(x):\n",
    "    if len(x.split('.')) > 3:\n",
    "        x = '.'.join(x.split('.')[:2])\n",
    "    \n",
    "    t = x.split('_')\n",
    "    return float(t[0]), float(t[1])\n",
    "\n",
    "ms_md = pd.DataFrame(\n",
    "    list(map(split_rt_mz, coefs.columns)), \n",
    "    index=coefs.columns, columns=['m/z', 'rt']) \n",
    "\n",
    "lookup = NearestNeighbors()\n",
    "lookup.fit(ms_md.values) "
   ]
  },
  {
   "cell_type": "markdown",
   "metadata": {},
   "source": [
    "Now, let's serialize all of the manual annotations and link them to the MS retention times and m/z."
   ]
  },
  {
   "cell_type": "code",
   "execution_count": 10,
   "metadata": {},
   "outputs": [],
   "source": [
    "results = []\n",
    "for x in bile_acids:\n",
    "    d, i = lookup.kneighbors([x], 1)\n",
    "    results.append((ms_md.index[i][0][0], 'bile_acid'))\n",
    "\n",
    "for x in abx:\n",
    "    d, i = lookup.kneighbors([x], 1)\n",
    "    results.append((ms_md.index[i][0][0], 'abx'))\n",
    "\n",
    "for x in nash:\n",
    "    d, i = lookup.kneighbors([x], 1)\n",
    "    results.append((ms_md.index[i][0][0], 'nash'))    \n",
    "results = pd.DataFrame(results, columns=['ms_id', 'compound_type'])    "
   ]
  },
  {
   "cell_type": "markdown",
   "metadata": {},
   "source": [
    "We'll want to do the same for taxonomy"
   ]
  },
  {
   "cell_type": "code",
   "execution_count": 11,
   "metadata": {},
   "outputs": [
    {
     "name": "stdout",
     "output_type": "stream",
     "text": [
      "cleaned_qiime_metadata.txt      microbe_feature_metadata.txt\r\n",
      "metabolite_feature_metadata.txt microbes.biom\r\n",
      "metabolites.biom                taxonomy.tsv\r\n"
     ]
    }
   ],
   "source": [
    "!ls ../data/HFD"
   ]
  },
  {
   "cell_type": "code",
   "execution_count": 12,
   "metadata": {},
   "outputs": [
    {
     "name": "stderr",
     "output_type": "stream",
     "text": [
      "/Users/jmorton/miniconda3/envs/mmvec/lib/python3.7/site-packages/ipykernel_launcher.py:1: FutureWarning: read_table is deprecated, use read_csv instead, passing sep='\\t'.\n",
      "  \"\"\"Entry point for launching an IPython kernel.\n"
     ]
    }
   ],
   "source": [
    "taxa = pd.read_table('../data/HFD/taxonomy.tsv')\n",
    "t = pd.DataFrame([ i for i in taxa.Taxon.apply(lambda x: x.split(';'))], \n",
    "             columns=['kingdom', 'phylum', 'class', 'order', \n",
    "                      'family', 'genus', 'species']\n",
    "            )\n",
    "taxa = pd.concat((taxa, t), axis=1)\n",
    "taxa = taxa.set_index('Feature ID')"
   ]
  },
  {
   "cell_type": "markdown",
   "metadata": {},
   "source": [
    "Now we'll want to sync against the differential abundance results"
   ]
  },
  {
   "cell_type": "code",
   "execution_count": 13,
   "metadata": {},
   "outputs": [],
   "source": [
    "microbe_beta = pd.read_csv(\n",
    "    '../results/hfd_output/songbird_microbes_prior1_lr1e-3_diet_rerun3/differentials.csv', \n",
    "    index_col=0)\n",
    "microbe_metadata = pd.merge(microbe_beta, taxa, left_index=True, right_index=True)\n",
    "microbe_metadata.index.name = 'featureid'\n",
    "microbe_metadata['otu_id'] = ['OTU_%d' % i for i in range(len(microbe_metadata.index))]"
   ]
  },
  {
   "cell_type": "code",
   "execution_count": 14,
   "metadata": {},
   "outputs": [
    {
     "name": "stdout",
     "output_type": "stream",
     "text": [
      "cleaned_qiime_metadata.txt      microbe_feature_metadata.txt\r\n",
      "metabolite_feature_metadata.txt microbes.biom\r\n",
      "metabolites.biom                taxonomy.tsv\r\n"
     ]
    }
   ],
   "source": [
    "!ls ../data/HFD"
   ]
  },
  {
   "cell_type": "code",
   "execution_count": 15,
   "metadata": {},
   "outputs": [
    {
     "data": {
      "text/plain": [
       "'../results/hfd_output/omics-biplot.results'"
      ]
     },
     "execution_count": 15,
     "metadata": {},
     "output_type": "execute_result"
    }
   ],
   "source": [
    "# create low dimensional projection of svd\n",
    "dim = 3\n",
    "u, s, v = np.linalg.svd(clr(centralize(coefs.apply(clr_inv).T)))\n",
    "u_ = u[:, :dim]\n",
    "s_ = s[:dim]\n",
    "v_ = v[:dim, :]\n",
    "\n",
    "scale = 1.4\n",
    "n = u.shape[0] \n",
    "u = (u_ * np.sqrt(n-1)) / scale\n",
    "v = (scale * v_ * s_.reshape(-1, 1)) / (np.sqrt(n-1))\n",
    "\n",
    "pcids = ['PC%d' % i for i in range(dim)]\n",
    "samples = pd.DataFrame(u, index=coefs.columns, columns=pcids)\n",
    "features = pd.DataFrame(v.T, index=coefs.index, columns=pcids)\n",
    "eigvals = pd.Series(s[:dim], index=pcids)\n",
    "\n",
    "features['importance'] = features.apply(lambda x: euclidean(np.zeros_like(x), x), axis=1)\n",
    "features.sort_values('importance', inplace=True, ascending=False)\n",
    "features.drop(['importance'], inplace=True, axis=1)\n",
    "\n",
    "# match against metadata\n",
    "microbe_metadata, features = microbe_metadata.align(features, axis=0, join='inner')\n",
    "\n",
    "microbe_metadata.index.name = 'featureid'\n",
    "#microbe_metadata.to_csv('../data/HFD/microbe_feature_metadata.txt', sep='\\t')\n",
    "\n",
    "res = OrdinationResults('RegressionBiplot', 'Multinomial Regression Biplot',\n",
    "                        eigvals = eigvals,\n",
    "                        proportion_explained = eigvals / eigvals.sum(),\n",
    "                        samples=samples, features=features)\n",
    "\n",
    "# save results\n",
    "res.write('../results/hfd_output/omics-biplot.results')"
   ]
  },
  {
   "cell_type": "code",
   "execution_count": 16,
   "metadata": {},
   "outputs": [],
   "source": [
    "cranks = ranks - ranks.mean(axis=1).values.reshape(-1, 1)\n",
    "edges = pd.melt(cranks.reset_index(), id_vars='index')\n",
    "edges = edges.sort_values('value', ascending=False).iloc[:300]\n",
    "edges = edges.rename(columns={'index': 'microbe', 'variable': 'metabolite', 'value': 'cond_logit'})\n",
    "edges.set_index('microbe').to_csv('../results/hfd_output/edges.txt', sep='\\t')"
   ]
  },
  {
   "cell_type": "markdown",
   "metadata": {},
   "source": [
    "Now, let's try to extract potentially interesting microbes, especially those that are associated with Phe conjugated cholic acid and Phe conjugated chenodeoxycholic acid\n",
    "\n",
    "Phe conjugated cholic acid"
   ]
  },
  {
   "cell_type": "code",
   "execution_count": 17,
   "metadata": {},
   "outputs": [
    {
     "name": "stderr",
     "output_type": "stream",
     "text": [
      "/Users/jmorton/miniconda3/envs/mmvec/lib/python3.7/site-packages/ipykernel_launcher.py:1: FutureWarning: \n",
      "The current behaviour of 'Series.argmax' is deprecated, use 'idxmax'\n",
      "instead.\n",
      "The behavior of 'argmax' will be corrected to return the positional\n",
      "maximum in the future. For now, use 'series.values.argmax' or\n",
      "'np.argmax(np.array(values))' to get the position of the maximum\n",
      "row.\n",
      "  \"\"\"Entry point for launching an IPython kernel.\n"
     ]
    },
    {
     "data": {
      "text/plain": [
       "'TACGTAGGGAGCGAGCGTTGTCCGGATTTACTGGGTGTAAAGGGTGCGTAGGCGGCTTGGCAAGTCAGTAGTGAAATCCATGGGCTTAACCCATGAACTGCTATTGAAACTGTCGAGCTTGAGTGAAGTAGAGGTAGGCGGAATTCCCGG'"
      ]
     },
     "execution_count": 17,
     "metadata": {},
     "output_type": "execute_result"
    }
   ],
   "source": [
    "ranks['556.363066229926_6.25189184149183'].argmax()"
   ]
  },
  {
   "cell_type": "markdown",
   "metadata": {},
   "source": [
    "The rank of the most associated microbe is given below."
   ]
  },
  {
   "cell_type": "code",
   "execution_count": 18,
   "metadata": {},
   "outputs": [
    {
     "data": {
      "text/plain": [
       "22.0"
      ]
     },
     "execution_count": 18,
     "metadata": {},
     "output_type": "execute_result"
    }
   ],
   "source": [
    "ranks.shape[1] - ranks['556.363066229926_6.25189184149183'].max()"
   ]
  },
  {
   "cell_type": "code",
   "execution_count": 19,
   "metadata": {},
   "outputs": [
    {
     "name": "stderr",
     "output_type": "stream",
     "text": [
      "/Users/jmorton/miniconda3/envs/mmvec/lib/python3.7/site-packages/ipykernel_launcher.py:1: FutureWarning: \n",
      "The current behaviour of 'Series.argmax' is deprecated, use 'idxmax'\n",
      "instead.\n",
      "The behavior of 'argmax' will be corrected to return the positional\n",
      "maximum in the future. For now, use 'series.values.argmax' or\n",
      "'np.argmax(np.array(values))' to get the position of the maximum\n",
      "row.\n",
      "  \"\"\"Entry point for launching an IPython kernel.\n"
     ]
    },
    {
     "data": {
      "text/plain": [
       "Intercept                                                 1.115\n",
       "diet[T.NC]                                              0.28551\n",
       "Taxon         k__Bacteria; p__Firmicutes; c__Clostridia; o__...\n",
       "Confidence                                             0.985994\n",
       "kingdom                                             k__Bacteria\n",
       "phylum                                            p__Firmicutes\n",
       "class                                             c__Clostridia\n",
       "order                                          o__Clostridiales\n",
       "family                                       f__Ruminococcaceae\n",
       "genus                                           g__Ruminococcus\n",
       "species                                                     s__\n",
       "otu_id                                                  OTU_155\n",
       "Name: TACGTAGGGAGCGAGCGTTGTCCGGATTTACTGGGTGTAAAGGGTGCGTAGGCGGCTTGGCAAGTCAGTAGTGAAATCCATGGGCTTAACCCATGAACTGCTATTGAAACTGTCGAGCTTGAGTGAAGTAGAGGTAGGCGGAATTCCCGG, dtype: object"
      ]
     },
     "execution_count": 19,
     "metadata": {},
     "output_type": "execute_result"
    }
   ],
   "source": [
    "microbe_metadata.loc[ranks['556.363066229926_6.25189184149183'].argmax()]"
   ]
  },
  {
   "cell_type": "code",
   "execution_count": 20,
   "metadata": {},
   "outputs": [
    {
     "name": "stderr",
     "output_type": "stream",
     "text": [
      "/Users/jmorton/miniconda3/envs/mmvec/lib/python3.7/site-packages/ipykernel_launcher.py:1: FutureWarning: \n",
      "The current behaviour of 'Series.argmax' is deprecated, use 'idxmax'\n",
      "instead.\n",
      "The behavior of 'argmax' will be corrected to return the positional\n",
      "maximum in the future. For now, use 'series.values.argmax' or\n",
      "'np.argmax(np.array(values))' to get the position of the maximum\n",
      "row.\n",
      "  \"\"\"Entry point for launching an IPython kernel.\n"
     ]
    },
    {
     "data": {
      "text/plain": [
       "0.26226389530276073"
      ]
     },
     "execution_count": 20,
     "metadata": {},
     "output_type": "execute_result"
    }
   ],
   "source": [
    "coefs.loc[ranks['556.363066229926_6.25189184149183'].argmax(), '556.363066229926_6.25189184149183']"
   ]
  },
  {
   "cell_type": "markdown",
   "metadata": {},
   "source": [
    "This microbe is Acutalibacter muris which is a Clostrium.  This is commonly found in mouse poop\n",
    "\n",
    "https://www.nature.com/articles/nmicrobiol2016131\n",
    "\n",
    "Next is Phe conjugated chenodeoxycholic acid"
   ]
  },
  {
   "cell_type": "code",
   "execution_count": 21,
   "metadata": {},
   "outputs": [
    {
     "name": "stderr",
     "output_type": "stream",
     "text": [
      "/Users/jmorton/miniconda3/envs/mmvec/lib/python3.7/site-packages/ipykernel_launcher.py:1: FutureWarning: \n",
      "The current behaviour of 'Series.argmax' is deprecated, use 'idxmax'\n",
      "instead.\n",
      "The behavior of 'argmax' will be corrected to return the positional\n",
      "maximum in the future. For now, use 'series.values.argmax' or\n",
      "'np.argmax(np.array(values))' to get the position of the maximum\n",
      "row.\n",
      "  \"\"\"Entry point for launching an IPython kernel.\n"
     ]
    },
    {
     "data": {
      "text/plain": [
       "'TACGGAGGATCCGAGCGTTATCCGGATTCATTGGGTTTAAAGGGTGCGTAGGTTGTTTTATAAGTTAGCGGTGAAATACCGATGCTCAACATCGGGGCTGCCGCTAATACTGTAGGACTAGAGATCGGATGCAGCAGGCGGAATGTGTAG'"
      ]
     },
     "execution_count": 21,
     "metadata": {},
     "output_type": "execute_result"
    }
   ],
   "source": [
    "ranks['540.370161766654_7.29027895783612'].argmax()"
   ]
  },
  {
   "cell_type": "code",
   "execution_count": 22,
   "metadata": {},
   "outputs": [
    {
     "data": {
      "text/plain": [
       "358.0"
      ]
     },
     "execution_count": 22,
     "metadata": {},
     "output_type": "execute_result"
    }
   ],
   "source": [
    "ranks.shape[1] - ranks['540.370161766654_7.29027895783612'].max()"
   ]
  },
  {
   "cell_type": "code",
   "execution_count": 23,
   "metadata": {},
   "outputs": [
    {
     "name": "stderr",
     "output_type": "stream",
     "text": [
      "/Users/jmorton/miniconda3/envs/mmvec/lib/python3.7/site-packages/ipykernel_launcher.py:1: FutureWarning: \n",
      "The current behaviour of 'Series.argmax' is deprecated, use 'idxmax'\n",
      "instead.\n",
      "The behavior of 'argmax' will be corrected to return the positional\n",
      "maximum in the future. For now, use 'series.values.argmax' or\n",
      "'np.argmax(np.array(values))' to get the position of the maximum\n",
      "row.\n",
      "  \"\"\"Entry point for launching an IPython kernel.\n"
     ]
    },
    {
     "data": {
      "text/plain": [
       "'TACGGAGGATCCGAGCGTTATCCGGATTCATTGGGTTTAAAGGGTGCGTAGGTTGTTTTATAAGTTAGCGGTGAAATACCGATGCTCAACATCGGGGCTGCCGCTAATACTGTAGGACTAGAGATCGGATGCAGCAGGCGGAATGTGTAG'"
      ]
     },
     "execution_count": 23,
     "metadata": {},
     "output_type": "execute_result"
    }
   ],
   "source": [
    "ranks['540.370161766654_7.29027895783612'].argmax()"
   ]
  },
  {
   "cell_type": "markdown",
   "metadata": {},
   "source": [
    "Top hit: Alistipes sp - found in colon cancer\n",
    "    \n",
    "https://www.ncbi.nlm.nih.gov/pmc/articles/PMC2828066/"
   ]
  },
  {
   "cell_type": "code",
   "execution_count": 24,
   "metadata": {},
   "outputs": [
    {
     "name": "stderr",
     "output_type": "stream",
     "text": [
      "/Users/jmorton/miniconda3/envs/mmvec/lib/python3.7/site-packages/ipykernel_launcher.py:1: FutureWarning: \n",
      "The current behaviour of 'Series.argmax' is deprecated, use 'idxmax'\n",
      "instead.\n",
      "The behavior of 'argmax' will be corrected to return the positional\n",
      "maximum in the future. For now, use 'series.values.argmax' or\n",
      "'np.argmax(np.array(values))' to get the position of the maximum\n",
      "row.\n",
      "  \"\"\"Entry point for launching an IPython kernel.\n"
     ]
    },
    {
     "data": {
      "text/plain": [
       "0.41388439394076926"
      ]
     },
     "execution_count": 24,
     "metadata": {},
     "output_type": "execute_result"
    }
   ],
   "source": [
    "coefs.loc[ranks['540.370161766654_7.29027895783612'].argmax(), '540.370161766654_7.29027895783612']"
   ]
  },
  {
   "cell_type": "code",
   "execution_count": 25,
   "metadata": {},
   "outputs": [
    {
     "name": "stderr",
     "output_type": "stream",
     "text": [
      "/Users/jmorton/miniconda3/envs/mmvec/lib/python3.7/site-packages/ipykernel_launcher.py:1: FutureWarning: \n",
      "The current behaviour of 'Series.argmax' is deprecated, use 'idxmax'\n",
      "instead.\n",
      "The behavior of 'argmax' will be corrected to return the positional\n",
      "maximum in the future. For now, use 'series.values.argmax' or\n",
      "'np.argmax(np.array(values))' to get the position of the maximum\n",
      "row.\n",
      "  \"\"\"Entry point for launching an IPython kernel.\n",
      "/Users/jmorton/miniconda3/envs/mmvec/lib/python3.7/site-packages/ipykernel_launcher.py:2: FutureWarning: \n",
      "The current behaviour of 'Series.argmax' is deprecated, use 'idxmax'\n",
      "instead.\n",
      "The behavior of 'argmax' will be corrected to return the positional\n",
      "maximum in the future. For now, use 'series.values.argmax' or\n",
      "'np.argmax(np.array(values))' to get the position of the maximum\n",
      "row.\n",
      "  \n"
     ]
    }
   ],
   "source": [
    "alistipes = ranks['540.370161766654_7.29027895783612'].argmax()\n",
    "acutalibacter = ranks['556.363066229926_6.25189184149183'].argmax()"
   ]
  },
  {
   "cell_type": "markdown",
   "metadata": {},
   "source": [
    "Now let's start to look at some of these microbes"
   ]
  },
  {
   "cell_type": "code",
   "execution_count": 26,
   "metadata": {},
   "outputs": [
    {
     "name": "stderr",
     "output_type": "stream",
     "text": [
      "/Users/jmorton/miniconda3/envs/mmvec/lib/python3.7/site-packages/ipykernel_launcher.py:2: FutureWarning: read_table is deprecated, use read_csv instead, passing sep='\\t'.\n",
      "  \n"
     ]
    },
    {
     "data": {
      "image/png": "[encoded data removed]",
      "text/plain": [
       "<Figure size 432x288 with 2 Axes>"
      ]
     },
     "metadata": {
      "needs_background": "light"
     },
     "output_type": "display_data"
    }
   ],
   "source": [
    "rel_microbes = microbes.apply(lambda x: x / x.sum(), axis=1)\n",
    "sample_metadata = pd.read_table('../data/HFD/cleaned_qiime_metadata.txt', index_col=0)\n",
    "data = pd.merge(sample_metadata, rel_microbes, left_index=True, right_index=True)\n",
    "\n",
    "# plot these microbes relative abundances\n",
    "import matplotlib\n",
    "import seaborn as sns\n",
    "matplotlib.rc('text', usetex = False)\n",
    "\n",
    "fig, ax = plt.subplots(2, 1, sharex=True)\n",
    "\n",
    "idx = data.diet == 'NC'\n",
    "sns.distplot(data.loc[~idx, alistipes], label='HFD', ax=ax[0])\n",
    "sns.distplot(data.loc[idx, alistipes], label='NC', ax=ax[0])\n",
    "ax[0].set_xlabel('$Alistipes$', fontsize=18)\n",
    "ax[0].tick_params(labelsize=14)\n",
    "ax[0].legend()\n",
    "\n",
    "sns.distplot(data.loc[~idx, acutalibacter], ax=ax[1])\n",
    "sns.distplot(data.loc[idx, acutalibacter], ax=ax[1])\n",
    "ax[1].tick_params(labelsize=14)\n",
    "ax[1].set_xlabel('$Acutalibacter$', fontsize=18)\n",
    "plt.tight_layout()"
   ]
  },
  {
   "cell_type": "code",
   "execution_count": 27,
   "metadata": {},
   "outputs": [],
   "source": [
    "micro_diff = pd.read_csv('../results/hfd_output/songbird_microbes_prior1_lr1e-3_diet_rerun3/differentials.csv',\n",
    "                         index_col=0)\n",
    "seqs = {\n",
    "    'Bifidobacteriaceae': 'TACGTAGGGTGCAAGCGTTATCCGGATTTATTGGGCGTAAAGGGCTCGTAGGCGGTTCGTCGCGTCCGGTGTGAAAGTCCATCGCTTAACGGTGGATCCGCGCCGGGTACGGGCGGGCTTGAGTGCGGTAGGGGAGACTGGAATTCCCGG',\n",
    "    'Enterobacteriaceae1': 'TACGGAGGGTGCAAGCGTTAATCGGAATTACTGGGCGTAAAGCGCACGCAGGCGGTTTGTTAAGTCAGATGTGAAATCCCCGGGCTCAACCTGGGAACTGCATCTGATACTGGCAAGCTTGAGTCTCGTAGAGGGGGGTAGAATTCCAGG',\n",
    "    'Enterobacteriaceae2': 'TACGTAGGGTGCAAGCGTTATCCGGATTTATTGGGCGTAAAGGGCTCGTAGGCGGTTCGTCGCGTCCGGTGTGAAAGTCCATCGCTTAACGGTGGATCCGCGCCGGGTACGGGCGGGCTTGAGTGCGGTAGGGGAGACTGGAATTCCCGG',\n",
    "    'Ruminococcus_gnavis': 'TACGTAGGGGGCAAGCGTTATCCGGATTTACTGGGTGTAAAGGGAGCGTAGACGGCGATGCAAGCCAGATGTGAAAGCCCGGGGCTCAACCCCGGGACTGCATTTGGAACTGTGTGGCTGGAGTGTCGGAGAGGCAAGTGGAATTCCTAG',\n",
    "    'Lactobacillus reuteri1': 'TACGTAGGTGGCAAGCGTTATCCGGATTTATTGGGCGTAAAGCGAGCGCAGGCGGTCGCTTAGGTCTGATGTGAAAGCCTTCGGCTTAACCGAAGAAGTGCATCGGAAACCGGGCGACTTGAGTGCAGAAGAGGACAGTGGAACTCCATG',\n",
    "    'Lactobacillus reuteri2': 'TACGTAGGTGGCAAGCGTTATCCGGATTTATTGGGCGTAAAGCGAGCGCAGGCGGTTGCTTAGGTCTGATGTGAAAGCCTTCGGCTTAACCGAAGAAGTGCATCGGAAACCGGGCAACTTGAGTGCAGAAGAGGACAGTGGAACTCCATG'\n",
    "}"
   ]
  },
  {
   "cell_type": "code",
   "execution_count": 28,
   "metadata": {},
   "outputs": [
    {
     "data": {
      "text/plain": [
       "Text(0.5, 0, 'Taxa')"
      ]
     },
     "execution_count": 28,
     "metadata": {},
     "output_type": "execute_result"
    },
    {
     "data": {
      "image/png": "[encoded data removed]",
      "text/plain": [
       "<Figure size 864x360 with 1 Axes>"
      ]
     },
     "metadata": {
      "needs_background": "light"
     },
     "output_type": "display_data"
    }
   ],
   "source": [
    "fig, ax = plt.subplots(figsize=(12, 5))\n",
    "diet_ranks = micro_diff['diet[T.NC]'].sort_values()\n",
    "w = 5\n",
    "\n",
    "y = diet_ranks.values\n",
    "x = np.arange(len(y))\n",
    "ax.fill_between(x, y, 0, interpolate=True, color='#d0d0d0')\n",
    "i = diet_ranks.index.get_loc(alistipes)\n",
    "ax.bar(x[i], y[i], w, color='#fedb87')\n",
    "\n",
    "i = diet_ranks.index.get_loc(acutalibacter)\n",
    "ax.bar(x[i], y[i], w, color='#fedb87') \n",
    "ax.set_xticks([]) \n",
    "\n",
    "i = np.array([diet_ranks.index.get_loc(seqs['Enterobacteriaceae1']),\n",
    "              diet_ranks.index.get_loc(seqs['Enterobacteriaceae2'])])\n",
    "ax.bar(x[i], y[i], w, color='#ff4545') \n",
    "ax.set_xticks([]) \n",
    "\n",
    "i = np.array([diet_ranks.index.get_loc(seqs['Lactobacillus reuteri1']),\n",
    "              diet_ranks.index.get_loc(seqs['Lactobacillus reuteri2'])])\n",
    "ax.bar(x[i], y[i], w, color='#90b7fe') \n",
    "ax.set_xticks([]) \n",
    "\n",
    "i = np.array([diet_ranks.index.get_loc(seqs['Bifidobacteriaceae'])])\n",
    "ax.bar(x[i], y[i], w, color='#8d35cf') \n",
    "ax.set_xticks([]) \n",
    "\n",
    "ax.tick_params(labelsize=16)\n",
    "ax.set_ylabel('log(NC/HFD) + K', rotation=0, labelpad=90, fontsize=18)\n",
    "ax.set_xlabel('Taxa', fontsize=18)"
   ]
  },
  {
   "cell_type": "markdown",
   "metadata": {},
   "source": [
    "Let's look at the firmicutes and bacteriodetes ratio, just for fun."
   ]
  },
  {
   "cell_type": "code",
   "execution_count": 29,
   "metadata": {},
   "outputs": [
    {
     "data": {
      "text/plain": [
       "<matplotlib.legend.Legend at 0x7fe21282cfd0>"
      ]
     },
     "execution_count": 29,
     "metadata": {},
     "output_type": "execute_result"
    },
    {
     "data": {
      "image/png": "[encoded data removed]",
      "text/plain": [
       "<Figure size 432x288 with 1 Axes>"
      ]
     },
     "metadata": {
      "needs_background": "light"
     },
     "output_type": "display_data"
    }
   ],
   "source": [
    "fig, ax = plt.subplots()\n",
    "subtaxa = taxa.loc[set(microbes.columns) & set(diet_ranks.index)]\n",
    "firmicutes = subtaxa.loc[subtaxa.phylum == ' p__Firmicutes'].index\n",
    "bacteroidetes = subtaxa.loc[subtaxa.phylum == ' p__Bacteroidetes'].index\n",
    "sns.distplot(diet_ranks.loc[firmicutes], color='g', label='Firmicutes', ax=ax)\n",
    "sns.distplot(diet_ranks.loc[bacteroidetes], color='b', label='Bacteroidetes', ax=ax)\n",
    "ax.set_xlabel('log(NC/HFD)+K', fontsize=18)\n",
    "ax.tick_params(labelsize=14)\n",
    "ax.legend(fontsize=12) "
   ]
  },
  {
   "cell_type": "markdown",
   "metadata": {},
   "source": [
    "And we'll perform a comparison between mmvec and pearson"
   ]
  },
  {
   "cell_type": "code",
   "execution_count": 30,
   "metadata": {},
   "outputs": [],
   "source": [
    "from scipy.stats import pearsonr\n",
    "\n",
    "rel_microbes = microbes.apply(lambda x: x/x.sum(), axis=1)\n",
    "rel_metabolites = metabolites.apply(lambda x: x/x.sum(), axis=1)\n",
    "\n",
    "pear_coefs = pd.Series(index=metabolites.columns)\n",
    "pear_pvals = pd.Series(index=metabolites.columns)\n",
    "for j in metabolites.columns:\n",
    "    res = pearsonr(rel_microbes[acutalibacter], rel_metabolites[j])\n",
    "    pear_coefs.loc[j] = res[0]\n",
    "    pear_pvals.loc[j] = res[1]"
   ]
  },
  {
   "cell_type": "code",
   "execution_count": 31,
   "metadata": {},
   "outputs": [],
   "source": [
    "pear_coefs = pear_coefs.sort_index()\n",
    "pear_pvals = pear_pvals.sort_index()\n",
    "acut_ranks = coefs.loc[acutalibacter].sort_index()"
   ]
  },
  {
   "cell_type": "code",
   "execution_count": 32,
   "metadata": {},
   "outputs": [
    {
     "data": {
      "text/plain": [
       "Text(0, 0.5, 'Pearson correlations')"
      ]
     },
     "execution_count": 32,
     "metadata": {},
     "output_type": "execute_result"
    },
    {
     "data": {
      "image/png": "[encoded data removed]",
      "text/plain": [
       "<Figure size 576x576 with 1 Axes>"
      ]
     },
     "metadata": {
      "needs_background": "light"
     },
     "output_type": "display_data"
    }
   ],
   "source": [
    "fig, ax = plt.subplots(figsize=(8, 8))\n",
    "ax.scatter(acut_ranks, pear_coefs, s=-np.log(pear_pvals))\n",
    "ax.scatter(\n",
    "    acut_ranks.loc['556.363066229926_6.25189184149183'],\n",
    "    pear_coefs.loc['556.363066229926_6.25189184149183'],\n",
    "    c='r'\n",
    ")\n",
    "\n",
    "\n",
    "dx = 0.1\n",
    "dy = 0.1\n",
    "\n",
    "x = acut_ranks.loc['556.363066229926_6.25189184149183']\n",
    "y = pear_coefs.loc['556.363066229926_6.25189184149183']\n",
    "ax.annotate('Phe conjugated cholic acid', xy=(x, y), xytext=(x+dx, y+dy), fontsize=14,\n",
    "            arrowprops=dict(facecolor='black', shrink=0.01))\n",
    "    \n",
    "    \n",
    "ax.tick_params(labelsize=18)\n",
    "ax.set_xlabel('Conditional log probabilities', fontsize=18)\n",
    "ax.set_ylabel('Pearson correlations', fontsize=18)"
   ]
  },
  {
   "cell_type": "code",
   "execution_count": null,
   "metadata": {},
   "outputs": [],
   "source": []
  }
 ],
 "metadata": {
  "kernelspec": {
   "display_name": "Python 3",
   "language": "python",
   "name": "python3"
  },
  "language_info": {
   "codemirror_mode": {
    "name": "ipython",
    "version": 3
   },
   "file_extension": ".py",
   "mimetype": "text/x-python",
   "name": "python",
   "nbconvert_exporter": "python",
   "pygments_lexer": "ipython3",
   "version": "3.7.3"
  }
 },
 "nbformat": 4,
 "nbformat_minor": 2
}
