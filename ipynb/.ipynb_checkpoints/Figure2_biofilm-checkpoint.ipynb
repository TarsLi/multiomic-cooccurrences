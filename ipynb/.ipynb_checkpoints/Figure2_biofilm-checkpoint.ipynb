{
 "cells": [
  {
   "cell_type": "markdown",
   "metadata": {},
   "source": [
    "Here we will show what the cystic fibrosis simulation looks like across time"
   ]
  },
  {
   "cell_type": "code",
   "execution_count": 1,
   "metadata": {},
   "outputs": [
    {
     "name": "stderr",
     "output_type": "stream",
     "text": [
      "/Users/jmorton/miniconda3/envs/mmvec/lib/python3.7/importlib/_bootstrap.py:219: RuntimeWarning: compiletime version 3.6 of module 'tensorflow.python.framework.fast_tensor_util' does not match runtime version 3.7\n",
      "  return f(*args, **kwds)\n"
     ]
    }
   ],
   "source": [
    "import tensorflow as tf\n",
    "import numpy as np\n",
    "import pandas as pd\n",
    "import matplotlib.pyplot as plt\n",
    "from matplotlib.ticker import MaxNLocator\n",
    "\n",
    "import seaborn as sns\n",
    "from src.evaluate import edge_roc_curve\n",
    "from src.sim import cystic_fibrosis_simulation\n",
    "\n",
    "from itertools import product\n",
    "from skbio.stats.composition import clr, centralize\n",
    "from skbio.stats.composition import clr_inv as softmax\n",
    "from scipy.sparse import coo_matrix\n",
    "from scipy.stats import rankdata\n",
    "import matplotlib.colors as colors\n",
    "import glob\n",
    "import yaml\n",
    "\n",
    "from scipy.stats import spearmanr, pearsonr\n",
    "%matplotlib inline"
   ]
  },
  {
   "cell_type": "code",
   "execution_count": 3,
   "metadata": {},
   "outputs": [],
   "source": [
    "df = cystic_fibrosis_simulation(data_dir=\"../data/cf_sim\")"
   ]
  },
  {
   "cell_type": "code",
   "execution_count": 4,
   "metadata": {},
   "outputs": [],
   "source": [
    "df[['P','I','SA','SG','F']] = df[['P','I','SA','SG','F']] * 1e6\n",
    "df[['theta_f', 'theta_p']] = df[['theta_f', 'theta_p']] * 1e3\n",
    "df['microbial_total'] = df[['theta_f', 'theta_p']].sum(axis=1)\n",
    "df['metabolite_total'] = df[['F', 'P', 'I', 'SA', 'SG']].sum(axis=1)\n",
    "df['metabolite_total'] = df[['F', 'P', 'I', 'SA', 'SG']].sum(axis=1)\n",
    "df['evil_total'] = df.metabolite_total * (df.time+1)"
   ]
  },
  {
   "cell_type": "code",
   "execution_count": 7,
   "metadata": {},
   "outputs": [
    {
     "ename": "SyntaxError",
     "evalue": "invalid syntax (<ipython-input-7-5a265844cfd7>, line 6)",
     "output_type": "error",
     "traceback": [
      "\u001b[0;36m  File \u001b[0;32m\"<ipython-input-7-5a265844cfd7>\"\u001b[0;36m, line \u001b[0;32m6\u001b[0m\n\u001b[0;31m    fig, axes = plt.subplots(2, 2, figsize=(16I, 6))\u001b[0m\n\u001b[0m                                              ^\u001b[0m\n\u001b[0;31mSyntaxError\u001b[0m\u001b[0;31m:\u001b[0m invalid syntax\n"
     ]
    }
   ],
   "source": [
    "labelsize = 20\n",
    "fontsize = 24\n",
    "microbe_names = ['theta_f', 'theta_p']\n",
    "metabolite_names = ['F', 'I', 'P', 'SA', 'SG']\n",
    "\n",
    "fig, axes = plt.subplots(2, 2, figsize=(1, 6))\n",
    "metadata = df.loc[np.logical_and(df['y']==20, df['time'] < 10)]\n",
    "mode = 'time'\n",
    "\n",
    "\n",
    "type_colors = {'SA': '#B03A2E',\n",
    "               'F': '#2980B9',\n",
    "               'P': '#27AE60',\n",
    "               'SG': '#8E44AD',\n",
    "               'I': '#E67E22'\n",
    "              }\n",
    "\n",
    "microbe_colors = {\n",
    "    'theta_f': '#95A5A6',\n",
    "    'theta_p': '#34495E'\n",
    "}\n",
    "for m in microbe_names:\n",
    "    axes[0][0].scatter(\n",
    "        metadata[mode], metadata[m], label=m,\n",
    "        color=microbe_colors[m]        \n",
    "    )\n",
    "#axes[0][0].legend(prop={'size': labelsize}, loc=4)\n",
    "axes[0][0].set_xticks([])\n",
    "axes[0][0].xaxis.set_tick_params(labelsize=labelsize)\n",
    "axes[0][0].yaxis.set_tick_params(labelsize=labelsize)\n",
    "axes[0][0].set_ylabel('Microbes', fontsize=fontsize)\n",
    "\n",
    "microbe_legend = {}\n",
    "for m in microbe_names:\n",
    "    microbe_legend[m] = axes[0][1].scatter(\n",
    "        metadata[mode], metadata[m] / metadata.microbial_total, label=m,\n",
    "        color=microbe_colors[m]\n",
    "    )\n",
    "axes[0][1].set_xticks([])\n",
    "axes[0][1].xaxis.set_tick_params(labelsize=labelsize)\n",
    "axes[0][1].yaxis.set_tick_params(labelsize=labelsize)\n",
    "\n",
    "\n",
    "for k in metabolite_names:\n",
    "    axes[1][0].scatter(\n",
    "        metadata[mode], metadata[k], label=k,\n",
    "        color=type_colors[k])        \n",
    "#axes[1][0].legend(prop={'size': labelsize}, loc=4)\n",
    "\n",
    "axes[1][0].xaxis.set_tick_params(labelsize=labelsize)\n",
    "axes[1][0].yaxis.set_tick_params(labelsize=labelsize)\n",
    "axes[1][0].set_xlabel('Time', fontsize=fontsize)\n",
    "axes[1][0].set_ylabel('Metabolites', fontsize=fontsize)\n",
    "\n",
    "metabolite_legend = {}\n",
    "for k in metabolite_names:\n",
    "    metabolite_legend[k] = axes[1][1].scatter(\n",
    "        metadata[mode], metadata[k] / metadata.metabolite_total, label=k,\n",
    "        color=type_colors[k])\n",
    "axes[1][1].xaxis.set_tick_params(labelsize=labelsize)\n",
    "axes[1][1].yaxis.set_tick_params(labelsize=labelsize)\n",
    "axes[1][1].set_xlabel('Time', fontsize=fontsize)\n",
    "\n",
    "\n",
    "fig.subplots_adjust(wspace=0.5)\n",
    "\n",
    "#plt.savefig('../../figures/figure3/simple_sim.png')"
   ]
  },
  {
   "cell_type": "code",
   "execution_count": 5,
   "metadata": {},
   "outputs": [
    {
     "data": {
      "image/png": "[encoded data removed]",
      "text/plain": [
       "<Figure size 432x288 with 1 Axes>"
      ]
     },
     "metadata": {
      "needs_background": "light"
     },
     "output_type": "display_data"
    }
   ],
   "source": [
    "plt.legend(list(metabolite_legend.values()), metabolite_legend.keys(), fontsize=22)\n",
    "plt.savefig('../../figures/figure3/metabolite_legend.png')"
   ]
  },
  {
   "cell_type": "code",
   "execution_count": 6,
   "metadata": {},
   "outputs": [
    {
     "data": {
      "image/png": "[encoded data removed]",
      "text/plain": [
       "<Figure size 432x288 with 1 Axes>"
      ]
     },
     "metadata": {
      "needs_background": "light"
     },
     "output_type": "display_data"
    }
   ],
   "source": [
    "plt.legend(list(microbe_legend.values()), [r'$\\theta_p$', r'$\\theta_f$'], fontsize=22)\n",
    "plt.savefig('../../figures/figure3/microbe_legend.png')"
   ]
  }
 ],
 "metadata": {
  "kernelspec": {
   "display_name": "Python 3",
   "language": "python",
   "name": "python3"
  },
  "language_info": {
   "codemirror_mode": {
    "name": "ipython",
    "version": 3
   },
   "file_extension": ".py",
   "mimetype": "text/x-python",
   "name": "python",
   "nbconvert_exporter": "python",
   "pygments_lexer": "ipython3",
   "version": "3.7.3"
  }
 },
 "nbformat": 4,
 "nbformat_minor": 2
}
