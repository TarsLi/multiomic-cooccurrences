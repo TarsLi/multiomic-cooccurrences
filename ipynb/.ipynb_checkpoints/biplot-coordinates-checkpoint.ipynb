{
 "cells": [
  {
   "cell_type": "markdown",
   "metadata": {},
   "source": [
    "# Calculate the biplot coordinates\n",
    "\n",
    "If you have made it this far, give yourself a pat on the back -- that is a tricky step to retrieve the model parameters.\n",
    "\n",
    "Next we will compute biplot coordinates so that we can visualize shiny biplots in Emperor.  This procedure will be available in qiime2 in the future -- but for now, we will have to do this calculation in a notebook.\n",
    "\n",
    "There are only 2 parameters to tune below.  The first one is `dim`, which is the number of dimensions to approximate the conditional probability matrix (i.e. the ranks).  The second one is the scale aspect between the metabolite points and the microbe arrows.  To avoid things becoming too funky, the scale can either shrink the arrows (with scale < 1) or expand the arrows (with scale > 1).  This is mainly for aesthetic purposes."
   ]
  },
  {
   "cell_type": "code",
   "execution_count": 1,
   "metadata": {},
   "outputs": [
    {
     "data": {
      "text/plain": [
       "'../results/cf_output/omics-biplot.results'"
      ]
     },
     "execution_count": 1,
     "metadata": {},
     "output_type": "execute_result"
    }
   ],
   "source": [
    "import os\n",
    "import numpy as np\n",
    "import pandas as pd\n",
    "import tensorflow as tf\n",
    "from biom import load_table\n",
    "from skbio.stats.composition import clr, clr_inv, centralize, closure\n",
    "from skbio.stats.ordination import OrdinationResults\n",
    "from scipy.spatial.distance import euclidean\n",
    "\n",
    "dim = 3      # --latent-dim\n",
    "scale = 1.   # aspect ratios between metabolite points and microbe arrows\n",
    "\n",
    "# read in the ranks.csv file we saved before.\n",
    "ranks = pd.read_csv('../results/cf_output/ranks.csv', index_col=0)\n",
    "\n",
    "# Everything below are technical details.  You shouldn't have to touch this.\n",
    "ranks = ranks.apply(clr_inv).T\n",
    "u, s, v = np.linalg.svd(clr(centralize(ranks)))\n",
    "n = v.shape[1]\n",
    "u = u[:, :dim]\n",
    "s = s[:dim]\n",
    "v = v[:dim, :]\n",
    "\n",
    "u = u * np.sqrt(n-1) / scale \n",
    "v = scale * np.diag(s) @ v / np.sqrt(n-1)\n",
    "\n",
    "# push results into Ordination object\n",
    "pcids = ['PC%d' % i for i in range(len(s))]\n",
    "samples = pd.DataFrame(u[:, :len(s)], index=ranks.index, columns=pcids)\n",
    "features = pd.DataFrame(v.T, index=ranks.columns, columns=pcids)\n",
    "eigvals = pd.Series(s, index=pcids)\n",
    "\n",
    "features['importance'] = features.apply(lambda x: euclidean(np.zeros_like(x), x), axis=1)\n",
    "features.sort_values('importance', inplace=True, ascending=False)\n",
    "features.drop(['importance'], inplace=True, axis=1)\n",
    "\n",
    "res = OrdinationResults('MultiomicsBiplot', 'Multiomics Biplot',\n",
    "                        eigvals = eigvals,\n",
    "                        proportion_explained = eigvals / eigvals.sum(),\n",
    "                        samples=samples, features=features)\n",
    "\n",
    "# save that shit!\n",
    "res.write('../results/cf_output/omics-biplot.results')"
   ]
  },
  {
   "cell_type": "markdown",
   "metadata": {},
   "source": [
    "If you want to load this into an emperor biplot, you can run the following commands in a qiime2 environment\n",
    "\n",
    "```bash\n",
    "qiime tools import --input-path ../results/omics-biplot.results \\\n",
    "                   --output-path ../results/omics-biplot.qza \\\n",
    "                   --type \"PCoAResults % Properties('biplot')\"\n",
    "```\n",
    "\n",
    "```bash\n",
    "qiime emperor biplot --i-biplot ../results/omics-biplot.qza \\\n",
    "                     --m-sample-metadata-file ../data/lcms_annotations.txt \\\n",
    "                     --m-feature-metadata-file ../data/taxonomy.tsv \\\n",
    "                     --p-number-of-features 10 \\\n",
    "                     --o-visualization ../results/emperor-omics.qza\n",
    "```\n",
    "\n",
    "Are you getting an error from this command? Turns out that you need to make sure that `sampleid` is the name of the first column in `lcms_annotations.txt` and `featureid` is the name of the first column in `taxonomy.tsv`.  That can be done as follows."
   ]
  },
  {
   "cell_type": "code",
   "execution_count": 2,
   "metadata": {},
   "outputs": [],
   "source": [
    "import os\n",
    "import numpy as np\n",
    "import pandas as pd\n",
    "\n",
    "data_dir = '../data/CF'\n",
    "\n",
    "taxonomy = pd.read_table(os.path.join(data_dir, 'taxonomy.tsv'), index_col=0)\n",
    "ms_md = pd.read_table(os.path.join(data_dir, 'lcms_annotations.txt'))\n",
    "\n",
    "ms_md.index.name = 'sampleid'\n",
    "ms_md.to_csv('../results/point-metadata.txt', sep='\\t')\n",
    "\n",
    "taxonomy.index.name = 'featureid'\n",
    "taxonomy.to_csv('../results/arrow-metadata.txt', sep='\\t')"
   ]
  },
  {
   "cell_type": "markdown",
   "metadata": {},
   "source": [
    "Are you still getting errors after this? To get around that, you can run --p-ignore-missing-samples to drop any samples that aren't shared between the metadata mapping files.\n",
    "\n",
    "We will go more in-depth on how to create beautiful metadata to paint your Emperor biplots. But first, we will cover how to customize biplots so that you can place custom labels directly on your plot. Note that this won't be 3D or interactive -- but it allows for more customizability at the moment (but be sure to watch out for updates with Emperor, since it is under active development)."
   ]
  },
  {
   "cell_type": "code",
   "execution_count": null,
   "metadata": {},
   "outputs": [],
   "source": []
  }
 ],
 "metadata": {
  "kernelspec": {
   "display_name": "Python 3",
   "language": "python",
   "name": "python3"
  },
  "language_info": {
   "codemirror_mode": {
    "name": "ipython",
    "version": 3
   },
   "file_extension": ".py",
   "mimetype": "text/x-python",
   "name": "python",
   "nbconvert_exporter": "python",
   "pygments_lexer": "ipython3",
   "version": "3.7.3"
  }
 },
 "nbformat": 4,
 "nbformat_minor": 2
}
