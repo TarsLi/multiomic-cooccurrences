{
 "cells": [
  {
   "cell_type": "markdown",
   "metadata": {},
   "source": [
    "Here we will provide code on how to recreate the plots for the cystic fibrosis results."
   ]
  },
  {
   "cell_type": "code",
   "execution_count": 16,
   "metadata": {},
   "outputs": [],
   "source": [
    "import os\n",
    "import numpy as np\n",
    "import pandas as pd\n",
    "from biom import load_table\n",
    "from skbio.stats.composition import clr, clr_inv, centralize, closure\n",
    "from skbio.stats.ordination import OrdinationResults\n",
    "from scipy.spatial.distance import euclidean\n",
    "\n",
    "import matplotlib.pyplot as plt\n",
    "from matplotlib.ticker import MaxNLocator\n",
    "%matplotlib inline"
   ]
  },
  {
   "cell_type": "code",
   "execution_count": 17,
   "metadata": {},
   "outputs": [],
   "source": [
    "data_dir = '../data/CF'\n",
    "\n",
    "microbes = load_table(os.path.join(data_dir, 'otus_nt.biom')).to_dataframe().T\n",
    "metabolites = load_table(os.path.join(data_dir, 'lcms_nt.biom')).to_dataframe().T\n",
    "\n",
    "# align the samples\n",
    "ids = set(microbes.index) & set(metabolites.index)\n",
    "microbes = microbes.loc[ids]\n",
    "metabolites = metabolites.loc[ids]\n",
    "\n",
    "# to keep consistent with the mmvec analysis, microbes with less than 10 reads total are dropped\n",
    "microbes = microbes.loc[:, (microbes>0).sum(axis=0) > 10]"
   ]
  },
  {
   "cell_type": "code",
   "execution_count": 18,
   "metadata": {},
   "outputs": [
    {
     "name": "stdout",
     "output_type": "stream",
     "text": [
      "arrow-metadata.txt\r\n",
      "emperor.qzv\r\n",
      "\u001b[34mlatent_dim_3_input_prior_1.00_output_prior_1.00_beta1_0.85_beta2_0.90\u001b[m\u001b[m\r\n",
      "metabolites-pca.results\r\n",
      "microbes-pca.results\r\n",
      "model.txt\r\n",
      "model_run13_CF_dim3_lr1e-4_beta10.9_beta20.99_sub100_batch10.txt\r\n",
      "omics-biplot.results\r\n",
      "ordination.qza\r\n",
      "ordination.txt\r\n",
      "ordination_run13_CF_dim3_lr1e-4_beta10.9_beta20.99_sub100_batch10.txt\r\n",
      "point-metadata.txt\r\n",
      "ranks.csv\r\n"
     ]
    }
   ],
   "source": [
    "!ls ../results/cf_output"
   ]
  },
  {
   "cell_type": "code",
   "execution_count": 19,
   "metadata": {},
   "outputs": [],
   "source": [
    "model = pd.read_csv(\n",
    "    '../results/cf_output/model_run13_CF_dim3_lr1e-4_beta10.9_beta20.99_sub100_batch10.txt',\n",
    "    index_col=0\n",
    ")"
   ]
  },
  {
   "cell_type": "code",
   "execution_count": 20,
   "metadata": {},
   "outputs": [
    {
     "ename": "ValueError",
     "evalue": "Shape of passed values is (462, 3), indices imply (138, 3)",
     "output_type": "error",
     "traceback": [
      "\u001b[0;31m---------------------------------------------------------------------------\u001b[0m",
      "\u001b[0;31mValueError\u001b[0m                                Traceback (most recent call last)",
      "\u001b[0;32m~/miniconda3/envs/mmvec/lib/python3.7/site-packages/pandas/core/internals/managers.py\u001b[0m in \u001b[0;36mcreate_block_manager_from_blocks\u001b[0;34m(blocks, axes)\u001b[0m\n\u001b[1;32m   1652\u001b[0m \u001b[0;34m\u001b[0m\u001b[0m\n\u001b[0;32m-> 1653\u001b[0;31m         \u001b[0mmgr\u001b[0m \u001b[0;34m=\u001b[0m \u001b[0mBlockManager\u001b[0m\u001b[0;34m(\u001b[0m\u001b[0mblocks\u001b[0m\u001b[0;34m,\u001b[0m \u001b[0maxes\u001b[0m\u001b[0;34m)\u001b[0m\u001b[0;34m\u001b[0m\u001b[0;34m\u001b[0m\u001b[0m\n\u001b[0m\u001b[1;32m   1654\u001b[0m         \u001b[0mmgr\u001b[0m\u001b[0;34m.\u001b[0m\u001b[0m_consolidate_inplace\u001b[0m\u001b[0;34m(\u001b[0m\u001b[0;34m)\u001b[0m\u001b[0;34m\u001b[0m\u001b[0;34m\u001b[0m\u001b[0m\n",
      "\u001b[0;32m~/miniconda3/envs/mmvec/lib/python3.7/site-packages/pandas/core/internals/managers.py\u001b[0m in \u001b[0;36m__init__\u001b[0;34m(self, blocks, axes, do_integrity_check)\u001b[0m\n\u001b[1;32m    113\u001b[0m         \u001b[0;32mif\u001b[0m \u001b[0mdo_integrity_check\u001b[0m\u001b[0;34m:\u001b[0m\u001b[0;34m\u001b[0m\u001b[0;34m\u001b[0m\u001b[0m\n\u001b[0;32m--> 114\u001b[0;31m             \u001b[0mself\u001b[0m\u001b[0;34m.\u001b[0m\u001b[0m_verify_integrity\u001b[0m\u001b[0;34m(\u001b[0m\u001b[0;34m)\u001b[0m\u001b[0;34m\u001b[0m\u001b[0;34m\u001b[0m\u001b[0m\n\u001b[0m\u001b[1;32m    115\u001b[0m \u001b[0;34m\u001b[0m\u001b[0m\n",
      "\u001b[0;32m~/miniconda3/envs/mmvec/lib/python3.7/site-packages/pandas/core/internals/managers.py\u001b[0m in \u001b[0;36m_verify_integrity\u001b[0;34m(self)\u001b[0m\n\u001b[1;32m    310\u001b[0m             \u001b[0;32mif\u001b[0m \u001b[0mblock\u001b[0m\u001b[0;34m.\u001b[0m\u001b[0m_verify_integrity\u001b[0m \u001b[0;32mand\u001b[0m \u001b[0mblock\u001b[0m\u001b[0;34m.\u001b[0m\u001b[0mshape\u001b[0m\u001b[0;34m[\u001b[0m\u001b[0;36m1\u001b[0m\u001b[0;34m:\u001b[0m\u001b[0;34m]\u001b[0m \u001b[0;34m!=\u001b[0m \u001b[0mmgr_shape\u001b[0m\u001b[0;34m[\u001b[0m\u001b[0;36m1\u001b[0m\u001b[0;34m:\u001b[0m\u001b[0;34m]\u001b[0m\u001b[0;34m:\u001b[0m\u001b[0;34m\u001b[0m\u001b[0;34m\u001b[0m\u001b[0m\n\u001b[0;32m--> 311\u001b[0;31m                 \u001b[0mconstruction_error\u001b[0m\u001b[0;34m(\u001b[0m\u001b[0mtot_items\u001b[0m\u001b[0;34m,\u001b[0m \u001b[0mblock\u001b[0m\u001b[0;34m.\u001b[0m\u001b[0mshape\u001b[0m\u001b[0;34m[\u001b[0m\u001b[0;36m1\u001b[0m\u001b[0;34m:\u001b[0m\u001b[0;34m]\u001b[0m\u001b[0;34m,\u001b[0m \u001b[0mself\u001b[0m\u001b[0;34m.\u001b[0m\u001b[0maxes\u001b[0m\u001b[0;34m)\u001b[0m\u001b[0;34m\u001b[0m\u001b[0;34m\u001b[0m\u001b[0m\n\u001b[0m\u001b[1;32m    312\u001b[0m         \u001b[0;32mif\u001b[0m \u001b[0mlen\u001b[0m\u001b[0;34m(\u001b[0m\u001b[0mself\u001b[0m\u001b[0;34m.\u001b[0m\u001b[0mitems\u001b[0m\u001b[0;34m)\u001b[0m \u001b[0;34m!=\u001b[0m \u001b[0mtot_items\u001b[0m\u001b[0;34m:\u001b[0m\u001b[0;34m\u001b[0m\u001b[0;34m\u001b[0m\u001b[0m\n",
      "\u001b[0;32m~/miniconda3/envs/mmvec/lib/python3.7/site-packages/pandas/core/internals/managers.py\u001b[0m in \u001b[0;36mconstruction_error\u001b[0;34m(tot_items, block_shape, axes, e)\u001b[0m\n\u001b[1;32m   1690\u001b[0m     raise ValueError(\"Shape of passed values is {0}, indices imply {1}\".format(\n\u001b[0;32m-> 1691\u001b[0;31m         passed, implied))\n\u001b[0m\u001b[1;32m   1692\u001b[0m \u001b[0;34m\u001b[0m\u001b[0m\n",
      "\u001b[0;31mValueError\u001b[0m: Shape of passed values is (462, 3), indices imply (138, 3)",
      "\nDuring handling of the above exception, another exception occurred:\n",
      "\u001b[0;31mValueError\u001b[0m                                Traceback (most recent call last)",
      "\u001b[0;32m<ipython-input-20-3d1d424e13f7>\u001b[0m in \u001b[0;36m<module>\u001b[0;34m\u001b[0m\n\u001b[1;32m     25\u001b[0m \u001b[0;34m\u001b[0m\u001b[0m\n\u001b[1;32m     26\u001b[0m \u001b[0mpc_ids\u001b[0m \u001b[0;34m=\u001b[0m \u001b[0;34m[\u001b[0m\u001b[0;34m'PC0'\u001b[0m\u001b[0;34m,\u001b[0m \u001b[0;34m'PC1'\u001b[0m\u001b[0;34m,\u001b[0m \u001b[0;34m'PC2'\u001b[0m\u001b[0;34m]\u001b[0m\u001b[0;34m\u001b[0m\u001b[0;34m\u001b[0m\u001b[0m\n\u001b[0;32m---> 27\u001b[0;31m \u001b[0mU\u001b[0m \u001b[0;34m=\u001b[0m \u001b[0mpd\u001b[0m\u001b[0;34m.\u001b[0m\u001b[0mDataFrame\u001b[0m\u001b[0;34m(\u001b[0m\u001b[0mu\u001b[0m\u001b[0;34m,\u001b[0m \u001b[0mindex\u001b[0m\u001b[0;34m=\u001b[0m\u001b[0mmicrobes\u001b[0m\u001b[0;34m.\u001b[0m\u001b[0mindex\u001b[0m\u001b[0;34m,\u001b[0m \u001b[0mcolumns\u001b[0m\u001b[0;34m=\u001b[0m\u001b[0mpc_ids\u001b[0m\u001b[0;34m)\u001b[0m\u001b[0;34m\u001b[0m\u001b[0;34m\u001b[0m\u001b[0m\n\u001b[0m\u001b[1;32m     28\u001b[0m \u001b[0mV\u001b[0m \u001b[0;34m=\u001b[0m \u001b[0mpd\u001b[0m\u001b[0;34m.\u001b[0m\u001b[0mDataFrame\u001b[0m\u001b[0;34m(\u001b[0m\u001b[0mv\u001b[0m\u001b[0;34m.\u001b[0m\u001b[0mT\u001b[0m\u001b[0;34m,\u001b[0m \u001b[0mindex\u001b[0m\u001b[0;34m=\u001b[0m\u001b[0mmetabolites\u001b[0m\u001b[0;34m.\u001b[0m\u001b[0mindex\u001b[0m\u001b[0;34m,\u001b[0m \u001b[0mcolumns\u001b[0m\u001b[0;34m=\u001b[0m\u001b[0mpc_ids\u001b[0m\u001b[0;34m)\u001b[0m\u001b[0;34m\u001b[0m\u001b[0;34m\u001b[0m\u001b[0m\n\u001b[1;32m     29\u001b[0m \u001b[0meigvals\u001b[0m \u001b[0;34m=\u001b[0m \u001b[0mpd\u001b[0m\u001b[0;34m.\u001b[0m\u001b[0mSeries\u001b[0m\u001b[0;34m(\u001b[0m\u001b[0ms\u001b[0m\u001b[0;34m,\u001b[0m \u001b[0mindex\u001b[0m\u001b[0;34m=\u001b[0m\u001b[0mpc_ids\u001b[0m\u001b[0;34m)\u001b[0m\u001b[0;34m\u001b[0m\u001b[0;34m\u001b[0m\u001b[0m\n",
      "\u001b[0;32m~/miniconda3/envs/mmvec/lib/python3.7/site-packages/pandas/core/frame.py\u001b[0m in \u001b[0;36m__init__\u001b[0;34m(self, data, index, columns, dtype, copy)\u001b[0m\n\u001b[1;32m    422\u001b[0m             \u001b[0;32melse\u001b[0m\u001b[0;34m:\u001b[0m\u001b[0;34m\u001b[0m\u001b[0;34m\u001b[0m\u001b[0m\n\u001b[1;32m    423\u001b[0m                 mgr = init_ndarray(data, index, columns, dtype=dtype,\n\u001b[0;32m--> 424\u001b[0;31m                                    copy=copy)\n\u001b[0m\u001b[1;32m    425\u001b[0m \u001b[0;34m\u001b[0m\u001b[0m\n\u001b[1;32m    426\u001b[0m         \u001b[0;31m# For data is list-like, or Iterable (will consume into list)\u001b[0m\u001b[0;34m\u001b[0m\u001b[0;34m\u001b[0m\u001b[0;34m\u001b[0m\u001b[0m\n",
      "\u001b[0;32m~/miniconda3/envs/mmvec/lib/python3.7/site-packages/pandas/core/internals/construction.py\u001b[0m in \u001b[0;36minit_ndarray\u001b[0;34m(values, index, columns, dtype, copy)\u001b[0m\n\u001b[1;32m    165\u001b[0m         \u001b[0mvalues\u001b[0m \u001b[0;34m=\u001b[0m \u001b[0mmaybe_infer_to_datetimelike\u001b[0m\u001b[0;34m(\u001b[0m\u001b[0mvalues\u001b[0m\u001b[0;34m)\u001b[0m\u001b[0;34m\u001b[0m\u001b[0;34m\u001b[0m\u001b[0m\n\u001b[1;32m    166\u001b[0m \u001b[0;34m\u001b[0m\u001b[0m\n\u001b[0;32m--> 167\u001b[0;31m     \u001b[0;32mreturn\u001b[0m \u001b[0mcreate_block_manager_from_blocks\u001b[0m\u001b[0;34m(\u001b[0m\u001b[0;34m[\u001b[0m\u001b[0mvalues\u001b[0m\u001b[0;34m]\u001b[0m\u001b[0;34m,\u001b[0m \u001b[0;34m[\u001b[0m\u001b[0mcolumns\u001b[0m\u001b[0;34m,\u001b[0m \u001b[0mindex\u001b[0m\u001b[0;34m]\u001b[0m\u001b[0;34m)\u001b[0m\u001b[0;34m\u001b[0m\u001b[0;34m\u001b[0m\u001b[0m\n\u001b[0m\u001b[1;32m    168\u001b[0m \u001b[0;34m\u001b[0m\u001b[0m\n\u001b[1;32m    169\u001b[0m \u001b[0;34m\u001b[0m\u001b[0m\n",
      "\u001b[0;32m~/miniconda3/envs/mmvec/lib/python3.7/site-packages/pandas/core/internals/managers.py\u001b[0m in \u001b[0;36mcreate_block_manager_from_blocks\u001b[0;34m(blocks, axes)\u001b[0m\n\u001b[1;32m   1658\u001b[0m         \u001b[0mblocks\u001b[0m \u001b[0;34m=\u001b[0m \u001b[0;34m[\u001b[0m\u001b[0mgetattr\u001b[0m\u001b[0;34m(\u001b[0m\u001b[0mb\u001b[0m\u001b[0;34m,\u001b[0m \u001b[0;34m'values'\u001b[0m\u001b[0;34m,\u001b[0m \u001b[0mb\u001b[0m\u001b[0;34m)\u001b[0m \u001b[0;32mfor\u001b[0m \u001b[0mb\u001b[0m \u001b[0;32min\u001b[0m \u001b[0mblocks\u001b[0m\u001b[0;34m]\u001b[0m\u001b[0;34m\u001b[0m\u001b[0;34m\u001b[0m\u001b[0m\n\u001b[1;32m   1659\u001b[0m         \u001b[0mtot_items\u001b[0m \u001b[0;34m=\u001b[0m \u001b[0msum\u001b[0m\u001b[0;34m(\u001b[0m\u001b[0mb\u001b[0m\u001b[0;34m.\u001b[0m\u001b[0mshape\u001b[0m\u001b[0;34m[\u001b[0m\u001b[0;36m0\u001b[0m\u001b[0;34m]\u001b[0m \u001b[0;32mfor\u001b[0m \u001b[0mb\u001b[0m \u001b[0;32min\u001b[0m \u001b[0mblocks\u001b[0m\u001b[0;34m)\u001b[0m\u001b[0;34m\u001b[0m\u001b[0;34m\u001b[0m\u001b[0m\n\u001b[0;32m-> 1660\u001b[0;31m         \u001b[0mconstruction_error\u001b[0m\u001b[0;34m(\u001b[0m\u001b[0mtot_items\u001b[0m\u001b[0;34m,\u001b[0m \u001b[0mblocks\u001b[0m\u001b[0;34m[\u001b[0m\u001b[0;36m0\u001b[0m\u001b[0;34m]\u001b[0m\u001b[0;34m.\u001b[0m\u001b[0mshape\u001b[0m\u001b[0;34m[\u001b[0m\u001b[0;36m1\u001b[0m\u001b[0;34m:\u001b[0m\u001b[0;34m]\u001b[0m\u001b[0;34m,\u001b[0m \u001b[0maxes\u001b[0m\u001b[0;34m,\u001b[0m \u001b[0me\u001b[0m\u001b[0;34m)\u001b[0m\u001b[0;34m\u001b[0m\u001b[0;34m\u001b[0m\u001b[0m\n\u001b[0m\u001b[1;32m   1661\u001b[0m \u001b[0;34m\u001b[0m\u001b[0m\n\u001b[1;32m   1662\u001b[0m \u001b[0;34m\u001b[0m\u001b[0m\n",
      "\u001b[0;32m~/miniconda3/envs/mmvec/lib/python3.7/site-packages/pandas/core/internals/managers.py\u001b[0m in \u001b[0;36mconstruction_error\u001b[0;34m(tot_items, block_shape, axes, e)\u001b[0m\n\u001b[1;32m   1689\u001b[0m         \u001b[0;32mraise\u001b[0m \u001b[0mValueError\u001b[0m\u001b[0;34m(\u001b[0m\u001b[0;34m\"Empty data passed with indices specified.\"\u001b[0m\u001b[0;34m)\u001b[0m\u001b[0;34m\u001b[0m\u001b[0;34m\u001b[0m\u001b[0m\n\u001b[1;32m   1690\u001b[0m     raise ValueError(\"Shape of passed values is {0}, indices imply {1}\".format(\n\u001b[0;32m-> 1691\u001b[0;31m         passed, implied))\n\u001b[0m\u001b[1;32m   1692\u001b[0m \u001b[0;34m\u001b[0m\u001b[0m\n\u001b[1;32m   1693\u001b[0m \u001b[0;34m\u001b[0m\u001b[0m\n",
      "\u001b[0;31mValueError\u001b[0m: Shape of passed values is (462, 3), indices imply (138, 3)"
     ]
    }
   ],
   "source": [
    "from scipy.sparse.linalg import svds\n",
    "\n",
    "microbes = model.loc[model.embed_type=='microbe']\n",
    "metabolites = model.loc[model.embed_type=='metabolite']\n",
    "pc_ids = ['PC0', 'PC1', 'PC2']\n",
    "microbes = microbes[['feature_id', 'axis', 'mean']].pivot(index='feature_id', columns='axis')\n",
    "metabolites = metabolites[['feature_id', 'axis', 'mean']].pivot(index='feature_id', columns='axis')\n",
    "microbes.columns = microbes.columns.droplevel()\n",
    "metabolites.columns = metabolites.columns.droplevel()\n",
    "\n",
    "microbes['ones'] = 1\n",
    "metabolites['ones'] = 1\n",
    "microbes = microbes[['bias', 'ones'] + pc_ids]\n",
    "metabolites = metabolites[['ones', 'bias'] + pc_ids]\n",
    "\n",
    "logits = microbes @ metabolites.T\n",
    "logits = logits - logits.mean(axis=0)\n",
    "logits = logits - logits.mean(axis=1).values.reshape(-1, 1)\n",
    "\n",
    "u, s, v = svds(logits.values.T, k=3)\n",
    "scale = 1.   # aspect ratios between metabolite points and microbe arrows\n",
    "#n = v.shape[1]\n",
    "#u = u * np.sqrt(n-1) / scale \n",
    "#v = scale * np.diag(s) @ v / np.sqrt(n-1)\n",
    "\n",
    "pc_ids = ['PC0', 'PC1', 'PC2']\n",
    "U = pd.DataFrame(u, index=microbes.index, columns=pc_ids)\n",
    "V = pd.DataFrame(v.T, index=metabolites.index, columns=pc_ids)\n",
    "eigvals = pd.Series(s, index=pc_ids)\n",
    "proportion_explained = pd.Series(s**2 / np.sum(s**2), index=pc_ids)\n",
    "res = OrdinationResults(\n",
    "    short_method_name='Multiomics biplot',\n",
    "    long_method_name='Multiomics biplot',\n",
    "    samples=U, features=V, eigvals=eigvals, \n",
    "    proportion_explained=proportion_explained\n",
    ")\n",
    "res.write('../results/cf_output/ordination.txt')"
   ]
  },
  {
   "cell_type": "code",
   "execution_count": 6,
   "metadata": {},
   "outputs": [
    {
     "data": {
      "image/png": "[encoded data removed]",
      "text/plain": [
       "<Figure size 720x360 with 2 Axes>"
      ]
     },
     "metadata": {
      "needs_background": "light"
     },
     "output_type": "display_data"
    }
   ],
   "source": [
    "titlesize = 22\n",
    "fontsize = 18\n",
    "labelsize = 14\n",
    "fig, ax = plt.subplots(1, 2, figsize=(10, 5))\n",
    "ax[0].scatter(microbes.mean(axis=0), microbes.var(axis=0))\n",
    "ax[0].set_xscale('log')\n",
    "ax[0].set_yscale('log')\n",
    "ax[0].set_xlabel('Mean', fontsize=fontsize)\n",
    "ax[0].set_ylabel('Variance', fontsize=fontsize)\n",
    "ax[0].set_title('Microbiome', fontsize=titlesize)\n",
    "ax[0].tick_params(axis='x', labelsize=labelsize)\n",
    "ax[0].tick_params(axis='y', labelsize=labelsize)\n",
    "\n",
    "ax[1].scatter(metabolites.mean(axis=0), metabolites.var(axis=0))\n",
    "ax[1].set_xscale('log')\n",
    "ax[1].set_yscale('log')\n",
    "ax[1].set_xlabel('Mean', fontsize=fontsize)\n",
    "ax[1].set_ylabel('Variance', fontsize=fontsize)\n",
    "ax[1].set_title('Metabolomics', fontsize=titlesize)\n",
    "ax[1].tick_params(axis='x', labelsize=labelsize)\n",
    "ax[1].tick_params(axis='y', labelsize=labelsize)\n",
    "\n",
    "plt.tight_layout()"
   ]
  },
  {
   "cell_type": "markdown",
   "metadata": {},
   "source": [
    "Let's load the `ranks.csv` and the `omics-biplot.results` files that were created earlier. \n",
    "We'll also load the feature metadata mapping files, since we will use this information to paint the biplots."
   ]
  },
  {
   "cell_type": "code",
   "execution_count": null,
   "metadata": {},
   "outputs": [],
   "source": [
    "data_dir = '../data/CF'\n",
    "ranks = pd.read_csv('../results/cf_output/ranks.csv', index_col=0)\n",
    "#biplot_res = OrdinationResults.read('../results/cf_output/omics-biplot.results')\n",
    "\n",
    "taxonomy = pd.read_table(os.path.join(data_dir, 'taxonomy.tsv'), index_col=0)\n",
    "ms1_md = pd.read_table(os.path.join(data_dir, 'lcms_annotations.txt'), index_col=0)"
   ]
  },
  {
   "cell_type": "code",
   "execution_count": null,
   "metadata": {},
   "outputs": [],
   "source": [
    "biplot_res.samples"
   ]
  },
  {
   "cell_type": "markdown",
   "metadata": {},
   "source": [
    "We'll want to do some preprocessing of the feature metadata to ease manipulation.  \n",
    "Here, we'll just parse the taxonomies to make it easier to read."
   ]
  },
  {
   "cell_type": "code",
   "execution_count": null,
   "metadata": {},
   "outputs": [],
   "source": [
    "taxa = pd.DataFrame(taxonomy.Taxon.apply(lambda x: x.split(';')).values.tolist(), \n",
    "                    index=taxonomy.index, \n",
    "                    columns=['kingdom', 'phylum', 'class', 'order', 'family', 'genus', 'species'])"
   ]
  },
  {
   "cell_type": "markdown",
   "metadata": {},
   "source": [
    "Cleaning up the metabolomics annotations is a little more tricky - we need to do two things\n",
    "\n",
    "1. Match up the MS1 retention times and masses to the MS2 annotations\n",
    "2. Clean up the chemical names.\n",
    "\n",
    "I'm going to use a nearest neighbors approach regarding the retention times and masses.\n",
    "The masses are expected to be more accurate (within +/- 1) whereas the retention times are expected to slip more (+/- 10).\n",
    "\n",
    "We will need to extract the masses and retention ties from the ids.  Here the m/z is the first value and the retention time is the second value.\n",
    "\n",
    "# WARNING!!!\n",
    "\n",
    "As of now, there is no standardized protocol for labeling MS1 features.  Some MS1 bucket tables will be labeled with scan ids, or have the retention time and m/z flipped. So proceed with caution.\n",
    "\n",
    "That can be done as follows"
   ]
  },
  {
   "cell_type": "code",
   "execution_count": null,
   "metadata": {},
   "outputs": [],
   "source": [
    "from scipy.spatial import KDTree\n",
    "\n",
    "ms_ids = ranks.columns\n",
    "mz = list(map(lambda x: float(x[1:].split('mz')[0]), ms_ids))\n",
    "rt = list(map(lambda x: float(x[1:].split('mz')[1]), ms_ids))\n",
    "df = pd.DataFrame({'measured_mz': mz, 'measured_rt': rt}, index=ms_ids)"
   ]
  },
  {
   "cell_type": "markdown",
   "metadata": {},
   "source": [
    "We will create a database from the MS1 annotations, so that we will be matching the MS1 labels to the MS2 labels.\n",
    "We will only be looking at the closest neighbor and we will be recording their distances and original retention time and m/z."
   ]
  },
  {
   "cell_type": "code",
   "execution_count": null,
   "metadata": {},
   "outputs": [],
   "source": [
    "lookup = KDTree(ms1_md[['Precursor_MZ', 'RT_Query']])\n",
    "d, i = lookup.query(df.values, k=1, eps=.1)\n",
    "\n",
    "df['nearest_distance'] = d\n",
    "df['scan'] = [ms1_md.index[k] for k in i]\n",
    "df = df.reset_index()"
   ]
  },
  {
   "cell_type": "markdown",
   "metadata": {},
   "source": [
    "Now we will merge the MS1 and MS2 annotations together."
   ]
  },
  {
   "cell_type": "code",
   "execution_count": null,
   "metadata": {},
   "outputs": [],
   "source": [
    "ms1_md = ms1_md.reset_index()\n",
    "ms_md = pd.merge(df, ms1_md, left_on='scan', right_on='#Scan#')\n",
    "ms_md = ms_md.set_index('index')"
   ]
  },
  {
   "cell_type": "markdown",
   "metadata": {},
   "source": [
    "Now that we have some sort of unified metabolite annotation metadata, we can now start digging into individual molecules.\n",
    "\n",
    "Since P. aeruginosa is the best understood microbe in this system, we'll start by focusing on its known molecules, \n",
    "and merging that information into our metabolite annotations metadata."
   ]
  },
  {
   "cell_type": "code",
   "execution_count": null,
   "metadata": {},
   "outputs": [],
   "source": [
    "data_dir = '../data/CF'\n",
    "validation = pd.read_csv(\n",
    "    os.path.join(data_dir, 'validated-molecules.csv'), \n",
    "    index_col=0, header=None\n",
    ") \n",
    "validation.columns = ['rank', 'expert_annotation', 'shorthand']\n",
    "ms_md = pd.merge(ms_md, validation, left_index=True, right_index=True, how='left')"
   ]
  },
  {
   "cell_type": "markdown",
   "metadata": {},
   "source": [
    "Now we will want to start cleaning up some of the chemical names.  This is mainly for the\n",
    "sake of visualization (since many of these names are just too darn long)."
   ]
  },
  {
   "cell_type": "code",
   "execution_count": null,
   "metadata": {},
   "outputs": [],
   "source": [
    "ms_md['shorthand'] = ms_md['shorthand'].fillna('None')\n",
    "\n",
    "def annotation_f(x):\n",
    "    if x['shorthand'] != 'None':\n",
    "        return x['shorthand']\n",
    "    if x['nearest_distance'] > 10 or len(x['Compound_Name']) > 30:\n",
    "        return 'Other'\n",
    "    if x['Compound_Name'] == 'Rha-Rha-C10-C10 (M+H)':\n",
    "        return 'Rhamnolipid'\n",
    "    if 'phosphocholine' in x['Compound_Name']:\n",
    "        return 'Phosphocholine'\n",
    "    if 'Palmitoylcarnitine' in x['Compound_Name']:\n",
    "        return 'Palmitoylcarnitine'\n",
    "    if 'phosphoethanolamine' in x['Compound_Name']:\n",
    "        return 'Phosphoethanolamine'\n",
    "    if 'butyrolactone' in x['Compound_Name']:\n",
    "        return 'Butyrolactone'\n",
    "    if 'indole' in x['Compound_Name'].lower():\n",
    "        return 'indole'\n",
    "    else:\n",
    "        return x['Compound_Name']\n",
    "    \n",
    "ms_md['shorthand'] = ms_md.apply(annotation_f, axis=1)\n",
    "ms_md.index.name = 'sampleid'"
   ]
  },
  {
   "cell_type": "markdown",
   "metadata": {},
   "source": [
    "Before something else breaks, let's save all of the feature metadata files.\n",
    "We can use these files for visualization later."
   ]
  },
  {
   "cell_type": "code",
   "execution_count": null,
   "metadata": {},
   "outputs": [],
   "source": [
    "ms_md.to_csv('../results/cf_output/point-metadata.txt', sep='\\t')\n",
    "\n",
    "taxa.index.name = 'featureid'\n",
    "taxa.to_csv('../results/cf_output/arrow-metadata.txt', sep='\\t')"
   ]
  },
  {
   "cell_type": "markdown",
   "metadata": {},
   "source": [
    "Now we will make a custom biplot -- it is going to be hairy, so take a deep breath."
   ]
  },
  {
   "cell_type": "code",
   "execution_count": null,
   "metadata": {},
   "outputs": [],
   "source": [
    "from scipy.spatial.distance import euclidean\n",
    " \n",
    "axis0='PC0'\n",
    "axis1='PC1'\n",
    "# only plot the top 30 features\n",
    "features = biplot_res.features\n",
    "features['importance'] = features.apply(lambda x: euclidean(np.zeros_like(x), x), axis=1)\n",
    "features.sort_values('importance', inplace=True, ascending=False)\n",
    "features.drop(['importance'], inplace=True, axis=1)\n",
    "biplot_res.features = features[:30]\n",
    "\n",
    "# Now actually make the biplot\n",
    "fig = plt.figure(figsize=(8, 8))\n",
    "\n",
    "ridx = ms_md.loc[ms_md.shorthand == 'Rhamnolipid'].index\n",
    "idx = ms_md.loc[ms_md.shorthand != 'Rhamnolipid'].index\n",
    "\n",
    "rhamolipid_color = '#C918C1'\n",
    "other_color = '#B2B2B2'\n",
    "fermenter_color = '#00B899'\n",
    "anaerobe_color = '#C69600'\n",
    "\n",
    "arrow_width = .01\n",
    "other = plt.scatter(biplot_res.samples.loc[idx, axis0], \n",
    "                    biplot_res.samples.loc[idx, axis1], \n",
    "                    color=other_color, label='other')\n",
    "for i in biplot_res.features.index:\n",
    "    label = taxa.loc[i, 'genus']    \n",
    "    if label == ' g__Pseudomonas':\n",
    "        pseudomonas = plt.arrow(\n",
    "            0, 0, biplot_res.features.loc[i, axis0], biplot_res.features.loc[i, axis1], \n",
    "            color='r', width=arrow_width)        \n",
    "    elif biplot_res.features.loc[i, 'PC0'] > 0:        \n",
    "        pathogens = plt.arrow(\n",
    "            0, 0, biplot_res.features.loc[i, axis0], biplot_res.features.loc[i, axis1], \n",
    "            color=fermenter_color, width=arrow_width)\n",
    "    else:\n",
    "        anaerobes = plt.arrow(\n",
    "            0, 0, biplot_res.features.loc[i, axis0], biplot_res.features.loc[i, axis1], \n",
    "            color=anaerobe_color, width=arrow_width)\n",
    "\n",
    "rhamnolipids = plt.scatter(biplot_res.samples.loc[ridx, axis0], \n",
    "                           biplot_res.samples.loc[ridx, axis1], s=50,\n",
    "                           color=rhamolipid_color, zorder=5, label='Rhamnolipid')\n",
    "\n",
    "compounds = [\n",
    "    'Pyochelin', 'Phenazine-1-carboxylic Acid', \n",
    "    'HHQ', 'NHQ', 'C9:db-PQS, C9:DB-NQNO', \n",
    "    'PQS/HQNO', 'Pyocyanin'\n",
    "]\n",
    "\n",
    "interesting_taxa = [' g__Pseudomonas', ' g__Prevotella', ' g__Veillonella', \n",
    "                    ' g__Fusobacterium']\n",
    "\n",
    "\n",
    "compound_idx = [ms_md.loc[c, 'shorthand'] in compounds for c in ms_md.index]\n",
    "compound_idx = ms_md.loc[compound_idx].index\n",
    "subsamples = biplot_res.samples.loc[compound_idx]\n",
    "plt.scatter(subsamples[axis0], subsamples[axis1], marker='+',\n",
    "            color='k', s=100, zorder=10)\n",
    "\n",
    "for i in subsamples.index:\n",
    "    x, y = subsamples.loc[i, axis0], subsamples.loc[i, axis1]\n",
    "    label = ms_md.loc[i, 'shorthand']\n",
    "    dx = np.sign(x)*50\n",
    "    dy = np.sign(y)*50\n",
    "    plt.annotate(\n",
    "        label,\n",
    "        xy=(x, y), xytext=(dx, dy),\n",
    "        textcoords='offset points', ha='right', va='bottom',\n",
    "        bbox=dict(boxstyle='round,pad=0.5', fc='yellow', alpha=0.5),\n",
    "        arrowprops=dict(arrowstyle = '->', connectionstyle='arc3,rad=0'))\n",
    "\n",
    "for i in biplot_res.features.index:\n",
    "    x, y = biplot_res.features.loc[i, axis0], biplot_res.features.loc[i, axis1]\n",
    "    label = taxa.loc[i, 'genus']\n",
    "    if label not in interesting_taxa: continue\n",
    "        \n",
    "    dx = np.sign(x)*30\n",
    "    dy = np.sign(y)*30\n",
    "    plt.annotate(\n",
    "        label,\n",
    "        xy=(x, y), xytext=(dx, dy),\n",
    "        textcoords='offset points', ha='right', va='bottom',\n",
    "        bbox=dict(boxstyle='round,pad=0.5', fc='yellow', alpha=0.5),\n",
    "        arrowprops=dict(arrowstyle = '->', connectionstyle='arc3,rad=0'))\n",
    "\n",
    "plt.legend([pseudomonas, pathogens, anaerobes, rhamnolipids], \n",
    "           ['pseudomonas', 'pathogens', 'anaerobes', 'rhamnolipids'], \n",
    "           fontsize=12, loc=4)\n",
    "\n",
    "#plt.legend()\n",
    "plt.xlim([-4, 2])\n",
    "plt.ylim([-2.5, 2])\n",
    "plt.xticks([])\n",
    "plt.yticks([])\n",
    "plt.xlabel('PC1', fontsize=24)\n",
    "plt.ylabel('PC2', fontsize=24)\n",
    "plt.savefig('../results/custom-cf-omics.pdf')"
   ]
  },
  {
   "cell_type": "markdown",
   "metadata": {},
   "source": [
    "So, this looks pretty ugly right?\n",
    "\n",
    "This plot was ultimately tidied up in inkscape, since there are so many labels.\n",
    "This is another motivation to push these sorts of plotting capabilities to Emperor.\n",
    "\n",
    "Another thing worth doing is to compare and contrast the P. aeruginosa results between the conditional probabilities and the Pearson correlations.\n",
    "\n",
    "Let's retrieve the original microbe/metabolite data and match their samples."
   ]
  },
  {
   "cell_type": "code",
   "execution_count": null,
   "metadata": {},
   "outputs": [],
   "source": [
    "data_dir = '../data/CF/'\n",
    "\n",
    "microbes = load_table(os.path.join(data_dir, 'otus_nt.biom')).to_dataframe().T\n",
    "metabolites = load_table(os.path.join(data_dir, 'lcms_nt.biom')).to_dataframe().T\n",
    "\n",
    "# cast to dense dataframes and normalize to 1\n",
    "microbes = pd.DataFrame(microbes).apply(lambda x: x / x.sum(), axis=1)\n",
    "metabolites = pd.DataFrame(metabolites).apply(lambda x: x / x.sum(), axis=1)\n",
    "\n",
    "\n",
    "# align the samples\n",
    "ids = set(microbes.index) & set(metabolites.index)\n",
    "microbes = microbes.loc[ids]\n",
    "metabolites = metabolites.loc[ids]\n",
    "\n",
    "# to keep consistent with the minstrel analysis, microbes with less than 10 reads total are dropped\n",
    "microbes = microbes.loc[:, (microbes>0).sum(axis=0) > 10]"
   ]
  },
  {
   "cell_type": "markdown",
   "metadata": {},
   "source": [
    "Let's calculate the Pearson correlation coefficients."
   ]
  },
  {
   "cell_type": "code",
   "execution_count": null,
   "metadata": {},
   "outputs": [],
   "source": [
    "from scipy.stats import spearmanr, pearsonr\n",
    "\n",
    "# extract the P. aeroginosa deblurred sequence\n",
    "pseudomonas = taxa.loc[(taxa['genus'] == ' g__Pseudomonas').values].index[0]\n",
    "\n",
    "# extract the P. aeroginosa ranks / probabilities.\n",
    "pranks = ranks.loc[pseudomonas].sort_values()\n",
    "\n",
    "pear_ranks = pd.Series(index=ms_md.index)\n",
    "pear_pvals = pd.Series(index=ms_md.index)\n",
    "pranks = pranks.loc[pear_ranks.index]\n",
    "\n",
    "for i in ms_ids:\n",
    "    r = pearsonr(list(microbes[pseudomonas].values), list(metabolites[i].values))\n",
    "    pear_ranks.loc[i] = r[0]\n",
    "    pear_pvals.loc[i] = r[1]    "
   ]
  },
  {
   "cell_type": "markdown",
   "metadata": {},
   "source": [
    "The comparison between the Pearson and Conditional probabilities is given below.\n",
    "The conditional probabilities here are log transformed and centered around the mean log.\n",
    "\n",
    "The dots are all sized by the -log pvalue from Pearson correlation."
   ]
  },
  {
   "cell_type": "code",
   "execution_count": null,
   "metadata": {},
   "outputs": [],
   "source": [
    "fig, ax = plt.subplots(figsize=(5, 5))\n",
    "ax.scatter(pranks, pear_ranks, s=-2*np.log(pear_pvals))\n",
    "ax.scatter(pranks.loc[ridx], pear_ranks.loc[ridx], color='r', \n",
    "            s=-2*np.log(pear_pvals.loc[ridx]), label='rhamnolipids')\n",
    "ax.set_xlabel('Conditional logits', fontsize=18)\n",
    "ax.set_ylabel('Pearson coefficients', fontsize=18)\n",
    "ax.set_title('P. aeruginosa molecular ranks', fontsize=18)\n",
    "ax.legend(loc=4, fontsize=14)\n",
    "\n",
    "compounds = pd.DataFrame({\n",
    "    'X211.0918mz161.2083': ['Pyocyanin', 30, -60],\n",
    "    'X325.0673mz300.6387': ['Pyochelin', -80, 40],\n",
    "    'X232.1329mz284.2357': ['PCA', 50, -25],\n",
    "    'X244.1681mz317.3049': ['HHQ', 30, -30],\n",
    "    'X258.1804mz348.1582': ['PQS/HQNO', -80, 10],\n",
    "    'X256.1688mz350.8455': ['PQS/HQNO', -20, 30],\n",
    "    'X273.2005mz375.3707': ['NHQ', -70, 20],\n",
    "    'X271.1934mz377.8070': ['NHQ', 80, -35],\n",
    "    'X272.2311mz381.5715': ['NHQ', -30, 40],\n",
    "    'X289.2395mz367.6799': ['NQNO', 10, -50],\n",
    "    'X295.1511mz367.9210': ['NQNO', 30, 30],\n",
    "    'X284.1965mz373.1668': ['NQNO', -30, 10]\n",
    "}, ['compound', 'dx', 'dy']).T\n",
    "\n",
    "subsamples = pd.merge(biplot_res.samples, compounds, left_index=True, right_index=True)\n",
    "\n",
    "for i in subsamples.index:\n",
    "    x, y = pranks.loc[i], pear_ranks.loc[i]\n",
    "    dx, dy = subsamples.loc[i, 'dx'], subsamples.loc[i, 'dy']\n",
    "    \n",
    "    label = subsamples.loc[i, 'compound']\n",
    "    #dx = np.sign(x)*50\n",
    "    #dy = np.sign(y)*50\n",
    "    ax.annotate(\n",
    "        label,\n",
    "        xy=(x, y), xytext=(dx, dy),\n",
    "        textcoords='offset points', ha='right', va='bottom',\n",
    "        bbox=dict(boxstyle='round,pad=0.5', fc='yellow', alpha=0.5),\n",
    "        arrowprops=dict(arrowstyle = '->', connectionstyle='arc3,rad=0'))\n",
    "    \n",
    "ax.xaxis.set_tick_params(labelsize=16)\n",
    "ax.yaxis.set_tick_params(labelsize=16)\n",
    "ax.xaxis.set_major_locator(MaxNLocator(4))\n",
    "ax.yaxis.set_major_locator(MaxNLocator(4))\n",
    "plt.tight_layout()\n",
    "plt.savefig('../results/rhamnolipids_comparison.png')"
   ]
  },
  {
   "cell_type": "markdown",
   "metadata": {},
   "source": [
    "We can zoom in on the Rhamnolipids to see how the ranks compare"
   ]
  },
  {
   "cell_type": "code",
   "execution_count": null,
   "metadata": {},
   "outputs": [],
   "source": [
    "from scipy.stats import rankdata\n",
    "fig, ax = plt.subplots(figsize=(5, 5))\n",
    "\n",
    "conditional_ranks = pd.Series(rankdata(-pranks), pranks.index)\n",
    "pearson_ranks = pd.Series(rankdata(-pear_ranks), pear_ranks.index)\n",
    "k = conditional_ranks.sort_values().iloc[:30].index\n",
    "\n",
    "ax.scatter(list(conditional_ranks.loc[k].values),\n",
    "            list(pearson_ranks.loc[k].values))\n",
    "ax.scatter(list(conditional_ranks.loc[ridx].values),\n",
    "            list(pearson_ranks.loc[ridx].values), label='rhamnolipids', c='r')\n",
    "ax.plot(np.linspace(0,30), np.linspace(0,30), c='r')\n",
    "ax.set_xlabel('Conditional ranks', fontsize=18)\n",
    "ax.set_ylabel('Pearson ranks', fontsize=18)\n",
    "\n",
    "ax.xaxis.set_tick_params(labelsize=16)\n",
    "ax.yaxis.set_tick_params(labelsize=16)\n",
    "ax.xaxis.set_major_locator(MaxNLocator(4))\n",
    "ax.yaxis.set_major_locator(MaxNLocator(4))\n",
    "\n",
    "plt.legend(fontsize=18)\n",
    "plt.tight_layout()\n",
    "plt.savefig('../results/rhamnolipid_ranks.png')"
   ]
  },
  {
   "cell_type": "markdown",
   "metadata": {},
   "source": [
    "Below are some stats for Pearson correlation"
   ]
  },
  {
   "cell_type": "code",
   "execution_count": null,
   "metadata": {},
   "outputs": [],
   "source": [
    "from statsmodels.stats.multitest import multipletests\n",
    "\n",
    "# annotated compounds known to be produced by Pseudomonas\n",
    "compounds = [\n",
    "    'Pyochelin', 'Phenazine-1-carboxylic Acid', \n",
    "    'HHQ', 'NHQ', 'C9:db-PQS, C9:DB-NQNO', \n",
    "    'PQS/HQNO', 'Pyocyanin'\n",
    "]\n",
    "compound_idx = [ms_md.loc[c, 'shorthand'] in compounds for c in ms_md.index]\n",
    "\n",
    "print('Total detected with Pearson with FDR correction', \n",
    "      multipletests(pear_pvals, method='fdr_bh')[0].sum())\n",
    "\n",
    "print('Annotated compounds detected with Pearson without FDR correction', \n",
    "      (pear_pvals[compound_idx] < 0.05).sum())\n",
    "\n",
    "print('Annotated compounds detected with Pearson with FDR correction', \n",
    "      (multipletests(pear_pvals, method='fdr_bh')[0][compound_idx]).sum())\n",
    "\n",
    "print('Number of Rhamnolipids detected by Pearson without FDR correction', \n",
    "      (pear_pvals[ridx] < 0.05).sum())\n",
    "\n",
    "print('Number of Rhamnolipids detected by Pearson with FDR correction', \n",
    "      pd.Series((multipletests(pear_pvals, method='fdr_bh')[0]), \n",
    "                index=pear_pvals.index).loc[ridx].sum())"
   ]
  },
  {
   "cell_type": "markdown",
   "metadata": {},
   "source": [
    "To look in more detail about the specific correlations, we can look at the P. aeruginosa abundance vs Pyocyanin (which was quite different between the two)"
   ]
  },
  {
   "cell_type": "code",
   "execution_count": null,
   "metadata": {},
   "outputs": [],
   "source": [
    "fig, ax = plt.subplots(figsize=(5, 5))\n",
    "j = 'X211.0918mz161.2083' # pyocyanin\n",
    "ax.scatter(list(microbes[pseudomonas].values),\n",
    "            list(metabolites[j].values))\n",
    "ax.set_xlabel(r'$\\it{P. aeruginosa}$ proportion', fontsize=18)\n",
    "ax.set_ylabel('Pyocyanin proportion', fontsize=18)\n",
    "ax.xaxis.set_tick_params(labelsize=16)\n",
    "ax.yaxis.set_tick_params(labelsize=16)\n",
    "ax.xaxis.set_major_locator(MaxNLocator(4))\n",
    "ax.yaxis.set_major_locator(MaxNLocator(4))\n",
    "plt.tight_layout()\n",
    "plt.savefig('../results/pyocyanin_P.aeruginosa.png')"
   ]
  }
 ],
 "metadata": {
  "kernelspec": {
   "display_name": "Python 3",
   "language": "python",
   "name": "python3"
  },
  "language_info": {
   "codemirror_mode": {
    "name": "ipython",
    "version": 3
   },
   "file_extension": ".py",
   "mimetype": "text/x-python",
   "name": "python",
   "nbconvert_exporter": "python",
   "pygments_lexer": "ipython3",
   "version": "3.7.3"
  }
 },
 "nbformat": 4,
 "nbformat_minor": 2
}
