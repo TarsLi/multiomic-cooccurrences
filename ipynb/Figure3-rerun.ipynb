{
 "cells": [
  {
   "cell_type": "code",
   "execution_count": 1,
   "metadata": {},
   "outputs": [
    {
     "name": "stderr",
     "output_type": "stream",
     "text": [
      "/Users/jmorton/miniconda3/envs/qiime2-2019.10/lib/python3.6/site-packages/tensorflow/python/framework/dtypes.py:526: FutureWarning: Passing (type, 1) or '1type' as a synonym of type is deprecated; in a future version of numpy, it will be understood as (type, (1,)) / '(1,)type'.\n",
      "  _np_qint8 = np.dtype([(\"qint8\", np.int8, 1)])\n",
      "/Users/jmorton/miniconda3/envs/qiime2-2019.10/lib/python3.6/site-packages/tensorflow/python/framework/dtypes.py:527: FutureWarning: Passing (type, 1) or '1type' as a synonym of type is deprecated; in a future version of numpy, it will be understood as (type, (1,)) / '(1,)type'.\n",
      "  _np_quint8 = np.dtype([(\"quint8\", np.uint8, 1)])\n",
      "/Users/jmorton/miniconda3/envs/qiime2-2019.10/lib/python3.6/site-packages/tensorflow/python/framework/dtypes.py:528: FutureWarning: Passing (type, 1) or '1type' as a synonym of type is deprecated; in a future version of numpy, it will be understood as (type, (1,)) / '(1,)type'.\n",
      "  _np_qint16 = np.dtype([(\"qint16\", np.int16, 1)])\n",
      "/Users/jmorton/miniconda3/envs/qiime2-2019.10/lib/python3.6/site-packages/tensorflow/python/framework/dtypes.py:529: FutureWarning: Passing (type, 1) or '1type' as a synonym of type is deprecated; in a future version of numpy, it will be understood as (type, (1,)) / '(1,)type'.\n",
      "  _np_quint16 = np.dtype([(\"quint16\", np.uint16, 1)])\n",
      "/Users/jmorton/miniconda3/envs/qiime2-2019.10/lib/python3.6/site-packages/tensorflow/python/framework/dtypes.py:530: FutureWarning: Passing (type, 1) or '1type' as a synonym of type is deprecated; in a future version of numpy, it will be understood as (type, (1,)) / '(1,)type'.\n",
      "  _np_qint32 = np.dtype([(\"qint32\", np.int32, 1)])\n",
      "/Users/jmorton/miniconda3/envs/qiime2-2019.10/lib/python3.6/site-packages/tensorflow/python/framework/dtypes.py:535: FutureWarning: Passing (type, 1) or '1type' as a synonym of type is deprecated; in a future version of numpy, it will be understood as (type, (1,)) / '(1,)type'.\n",
      "  np_resource = np.dtype([(\"resource\", np.ubyte, 1)])\n"
     ]
    }
   ],
   "source": [
    "import os\n",
    "import numpy as np\n",
    "import pandas as pd\n",
    "import tensorflow as tf\n",
    "from biom import load_table\n",
    "import matplotlib.pyplot as plt\n",
    "import seaborn as sns\n",
    "#from gneiss.util import match\n",
    "from scipy.spatial import KDTree\n",
    "from scipy.stats import rankdata\n",
    "from skbio.stats.composition import clr, clr_inv, centralize\n",
    "from sklearn.neighbors import NearestNeighbors, KDTree\n",
    "from skbio.stats.ordination import OrdinationResults\n",
    "from scipy.spatial.distance import euclidean\n",
    "from scipy.stats import spearmanr\n",
    "from src.evaluate import _edge_roc_curve\n",
    "\n",
    "\n",
    "from matplotlib import rc\n",
    "import matplotlib\n",
    "%matplotlib inline"
   ]
  },
  {
   "cell_type": "code",
   "execution_count": 2,
   "metadata": {},
   "outputs": [
    {
     "name": "stdout",
     "output_type": "stream",
     "text": [
      "prop_matrix_soil_PHI.csv      prop_matrix_soil_pearson.csv\r\n",
      "prop_matrix_soil_RHO.csv      prop_matrix_soil_spearman.csv\r\n"
     ]
    }
   ],
   "source": [
    "!ls ../results/soil_output/rerun"
   ]
  },
  {
   "cell_type": "code",
   "execution_count": 3,
   "metadata": {},
   "outputs": [],
   "source": [
    "tools = ['mmvec', 'spearman', 'pearson', 'phi', 'rho']\n",
    "fnames = [\n",
    "    'mmvec_ranks.csv',\n",
    "    'rerun/prop_matrix_soil_pearson.csv',\n",
    "    'rerun/prop_matrix_soil_spearman.csv',\n",
    "    'rerun/prop_matrix_soil_PHI.csv',\n",
    "    'rerun/prop_matrix_soil_RHO.csv'\n",
    "]"
   ]
  },
  {
   "cell_type": "code",
   "execution_count": 4,
   "metadata": {},
   "outputs": [],
   "source": [
    "select_microbes = ['rplo 1 (Cyanobacteria)', 'rplo 2 (Firmicutes)', \n",
    "                   'rplo 60 (Firmicutes)', 'rplo 7 (Actinobacteria)']\n",
    "microcoleus_metabolites = ['(3-methyladenine)', '7-methyladenine', '4-guanidinobutanoate', 'uracil',\n",
    "                           'xanthine', 'hypoxanthine', '(N6-acetyl-lysine)', 'cytosine',\n",
    "                           'N-acetylornithine', 'N-acetylornithine', 'succinate', \n",
    "                           'adenosine', 'guanine', 'adenine']"
   ]
  },
  {
   "cell_type": "code",
   "execution_count": 5,
   "metadata": {},
   "outputs": [],
   "source": [
    "ranks = pd.read_csv(os.path.join('../results/soil_output', fnames[0]), index_col=0)"
   ]
  },
  {
   "cell_type": "code",
   "execution_count": 6,
   "metadata": {},
   "outputs": [],
   "source": [
    "sensitivity = lambda x: x['TP'] / (x['TP'] + x['FN'])\n",
    "specificity = lambda x: x['TN'] / (x['TN'] + x['FP'])\n",
    "precision = lambda x: x['TP'] / (x['TP'] + x['FP'])\n",
    "recall = lambda x: x['TP'] / (x['TP'] + x['FN'])\n",
    "f1 = lambda x: 2 * x['precision'] * x['recall'] / (x['precision'] + x['recall'])"
   ]
  },
  {
   "cell_type": "code",
   "execution_count": 7,
   "metadata": {},
   "outputs": [
    {
     "name": "stderr",
     "output_type": "stream",
     "text": [
      "/Users/jmorton/miniconda3/envs/qiime2-2019.10/lib/python3.6/site-packages/ipykernel_launcher.py:13: FutureWarning: Sorting because non-concatenation axis is not aligned. A future version\n",
      "of pandas will change to not sort by default.\n",
      "\n",
      "To accept the future behavior, pass 'sort=False'.\n",
      "\n",
      "To retain the current behavior and silence the warning, pass 'sort=True'.\n",
      "\n",
      "  del sys.path[0]\n"
     ]
    }
   ],
   "source": [
    "edges = pd.DataFrame(list(zip(['rplo 1 (Cyanobacteria)'] * len(microcoleus_metabolites), \n",
    "                     microcoleus_metabolites)), columns=['microbe', 'metabolite'])\n",
    "edges['direction'] = 'R'\n",
    "\n",
    "microbes = list(ranks.columns)\n",
    "metabolites = list(ranks.columns)\n",
    "other_metabolites = list(set(metabolites) - set(microcoleus_metabolites))\n",
    "\n",
    "other_edges = pd.DataFrame(other_metabolites, columns=['metabolite'])\n",
    "other_edges['microbe'] = 'rplo 1 (Cyanobacteria)'\n",
    "other_edges['direction'] = 0\n",
    "\n",
    "edges = pd.concat((edges, other_edges), axis=0)\n",
    "edges = edges[['microbe', 'metabolite', 'direction']]"
   ]
  },
  {
   "cell_type": "code",
   "execution_count": 8,
   "metadata": {},
   "outputs": [],
   "source": [
    "def read_df(fname):\n",
    "    if '.txt' in fname:\n",
    "        return pd.read_table(os.path.join('../results/soil_output', fname), \n",
    "                                          index_col=0)\n",
    "    else:\n",
    "        return pd.read_csv(os.path.join('../results/soil_output', fname), \n",
    "                                        index_col=0)\n",
    "    \n",
    "rankz = list(map(read_df, fnames))"
   ]
  },
  {
   "cell_type": "code",
   "execution_count": 9,
   "metadata": {},
   "outputs": [],
   "source": [
    "def roc_f(ranks, tool):\n",
    "    r = ranks.T[['rplo 1 (Cyanobacteria)']].loc[metabolites].T\n",
    "    if tool == 'phi':\n",
    "        r = 1 / r\n",
    "        \n",
    "    res = _edge_roc_curve(r, edges, k_max=40)\n",
    "    return res\n",
    "rocs = list(map(lambda x: roc_f(x[0], x[1]), zip(rankz, tools)))"
   ]
  },
  {
   "cell_type": "code",
   "execution_count": 10,
   "metadata": {},
   "outputs": [
    {
     "name": "stderr",
     "output_type": "stream",
     "text": [
      "/Users/jmorton/miniconda3/envs/qiime2-2019.10/lib/python3.6/site-packages/ipykernel_launcher.py:1: RuntimeWarning: invalid value encountered in long_scalars\n",
      "  \"\"\"Entry point for launching an IPython kernel.\n",
      "/Users/jmorton/miniconda3/envs/qiime2-2019.10/lib/python3.6/site-packages/ipykernel_launcher.py:4: RuntimeWarning: invalid value encountered in double_scalars\n",
      "  after removing the cwd from sys.path.\n",
      "/Users/jmorton/miniconda3/envs/qiime2-2019.10/lib/python3.6/site-packages/ipykernel_launcher.py:5: RuntimeWarning: invalid value encountered in double_scalars\n",
      "  \"\"\"\n"
     ]
    }
   ],
   "source": [
    "for res in rocs:\n",
    "    for df in res:\n",
    "        df['TPR'] = df.apply(sensitivity, axis=1)\n",
    "        df['TNR'] = df.apply(specificity, axis=1)\n",
    "        df['precision'] = df.apply(precision, axis=1)\n",
    "        df['recall'] = df.apply(recall, axis=1)\n",
    "        df['f1_score'] = df.apply(f1, axis=1)"
   ]
  },
  {
   "cell_type": "code",
   "execution_count": 11,
   "metadata": {},
   "outputs": [
    {
     "data": {
      "image/png": "[encoded data removed]",
      "text/plain": [
       "<Figure size 432x288 with 1 Axes>"
      ]
     },
     "metadata": {
      "needs_background": "light"
     },
     "output_type": "display_data"
    }
   ],
   "source": [
    "fig, ax = plt.subplots(figsize=(6, 4))\n",
    "#plt.subplots_adjust(wspace=0.4, hspace=0.5)\n",
    "\n",
    "for tool, roc in zip(tools, rocs):\n",
    "    ax.plot(roc[0]['TP'], label=tool)            \n",
    "    ax.set_ylabel('True positives', fontsize=18)\n",
    "    ax.set_xlabel('top K hits', fontsize=18)\n",
    "    ax.tick_params(axis=\"x\", labelsize=14)\n",
    "    ax.tick_params(axis=\"y\", labelsize=14)\n",
    "    ax.xaxis.set_major_locator(plt.MaxNLocator(4))\n",
    "    ax.yaxis.set_major_locator(plt.MaxNLocator(4))      \n",
    "\n",
    "ax.set_title('Microcoleus molecular detection rate', fontsize=18)\n",
    "ax.legend(loc='center left', bbox_to_anchor=(1, 0.5), fontsize=14)\n",
    "fig.savefig('Figure3b.svg')"
   ]
  },
  {
   "cell_type": "code",
   "execution_count": 14,
   "metadata": {},
   "outputs": [
    {
     "data": {
      "text/plain": [
       "466 x 20 <class 'biom.table.Table'> with 4770 nonzero entries (51% dense)"
      ]
     },
     "execution_count": 14,
     "metadata": {},
     "output_type": "execute_result"
    }
   ],
   "source": [
    "load_table('../data/soils/microbes.biom')"
   ]
  },
  {
   "cell_type": "code",
   "execution_count": null,
   "metadata": {},
   "outputs": [],
   "source": []
  }
 ],
 "metadata": {
  "kernelspec": {
   "display_name": "Python 3",
   "language": "python",
   "name": "python3"
  },
  "language_info": {
   "codemirror_mode": {
    "name": "ipython",
    "version": 3
   },
   "file_extension": ".py",
   "mimetype": "text/x-python",
   "name": "python",
   "nbconvert_exporter": "python",
   "pygments_lexer": "ipython3",
   "version": "3.6.7"
  }
 },
 "nbformat": 4,
 "nbformat_minor": 2
}
